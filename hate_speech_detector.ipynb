{
  "cells": [
    {
      "cell_type": "markdown",
      "metadata": {
        "id": "view-in-github",
        "colab_type": "text"
      },
      "source": [
        "<a href=\"https://colab.research.google.com/github/mussb00/Twitter-Hate-Speech-Detector/blob/main/hate_speech_detector.ipynb\" target=\"_parent\"><img src=\"https://colab.research.google.com/assets/colab-badge.svg\" alt=\"Open In Colab\"/></a>"
      ]
    },
    {
      "cell_type": "code",
      "execution_count": 1,
      "metadata": {
        "colab": {
          "base_uri": "https://localhost:8080/"
        },
        "id": "D-Ghbd3OKaus",
        "outputId": "3fdff586-a236-42f9-9dca-5ff6aae67dba"
      },
      "outputs": [
        {
          "output_type": "stream",
          "name": "stdout",
          "text": [
            "Looking in indexes: https://pypi.org/simple, https://us-python.pkg.dev/colab-wheels/public/simple/\n",
            "Collecting transformers\n",
            "  Downloading transformers-4.26.1-py3-none-any.whl (6.3 MB)\n",
            "\u001b[2K     \u001b[90m━━━━━━━━━━━━━━━━━━━━━━━━━━━━━━━━━━━━━━━━\u001b[0m \u001b[32m6.3/6.3 MB\u001b[0m \u001b[31m44.3 MB/s\u001b[0m eta \u001b[36m0:00:00\u001b[0m\n",
            "\u001b[?25hRequirement already satisfied: numpy>=1.17 in /usr/local/lib/python3.8/dist-packages (from transformers) (1.22.4)\n",
            "Requirement already satisfied: requests in /usr/local/lib/python3.8/dist-packages (from transformers) (2.25.1)\n",
            "Requirement already satisfied: packaging>=20.0 in /usr/local/lib/python3.8/dist-packages (from transformers) (23.0)\n",
            "Requirement already satisfied: filelock in /usr/local/lib/python3.8/dist-packages (from transformers) (3.9.0)\n",
            "Requirement already satisfied: tqdm>=4.27 in /usr/local/lib/python3.8/dist-packages (from transformers) (4.64.1)\n",
            "Collecting tokenizers!=0.11.3,<0.14,>=0.11.1\n",
            "  Downloading tokenizers-0.13.2-cp38-cp38-manylinux_2_17_x86_64.manylinux2014_x86_64.whl (7.6 MB)\n",
            "\u001b[2K     \u001b[90m━━━━━━━━━━━━━━━━━━━━━━━━━━━━━━━━━━━━━━━━\u001b[0m \u001b[32m7.6/7.6 MB\u001b[0m \u001b[31m25.1 MB/s\u001b[0m eta \u001b[36m0:00:00\u001b[0m\n",
            "\u001b[?25hRequirement already satisfied: regex!=2019.12.17 in /usr/local/lib/python3.8/dist-packages (from transformers) (2022.6.2)\n",
            "Requirement already satisfied: pyyaml>=5.1 in /usr/local/lib/python3.8/dist-packages (from transformers) (6.0)\n",
            "Collecting huggingface-hub<1.0,>=0.11.0\n",
            "  Downloading huggingface_hub-0.12.1-py3-none-any.whl (190 kB)\n",
            "\u001b[2K     \u001b[90m━━━━━━━━━━━━━━━━━━━━━━━━━━━━━━━━━━━━━━\u001b[0m \u001b[32m190.3/190.3 KB\u001b[0m \u001b[31m11.3 MB/s\u001b[0m eta \u001b[36m0:00:00\u001b[0m\n",
            "\u001b[?25hRequirement already satisfied: typing-extensions>=3.7.4.3 in /usr/local/lib/python3.8/dist-packages (from huggingface-hub<1.0,>=0.11.0->transformers) (4.5.0)\n",
            "Requirement already satisfied: urllib3<1.27,>=1.21.1 in /usr/local/lib/python3.8/dist-packages (from requests->transformers) (1.24.3)\n",
            "Requirement already satisfied: idna<3,>=2.5 in /usr/local/lib/python3.8/dist-packages (from requests->transformers) (2.10)\n",
            "Requirement already satisfied: certifi>=2017.4.17 in /usr/local/lib/python3.8/dist-packages (from requests->transformers) (2022.12.7)\n",
            "Requirement already satisfied: chardet<5,>=3.0.2 in /usr/local/lib/python3.8/dist-packages (from requests->transformers) (4.0.0)\n",
            "Installing collected packages: tokenizers, huggingface-hub, transformers\n",
            "Successfully installed huggingface-hub-0.12.1 tokenizers-0.13.2 transformers-4.26.1\n"
          ]
        }
      ],
      "source": [
        "!pip install transformers"
      ]
    },
    {
      "cell_type": "code",
      "execution_count": 3,
      "metadata": {
        "colab": {
          "base_uri": "https://localhost:8080/"
        },
        "id": "mq3lwjThNMzI",
        "outputId": "be2f16b6-2e1f-44b5-c2eb-a2cc59cdc31c"
      },
      "outputs": [
        {
          "output_type": "stream",
          "name": "stdout",
          "text": [
            "Mounted at /content/drive\n"
          ]
        }
      ],
      "source": [
        "from google.colab import drive\n",
        "drive.mount('/content/drive') #google drive mounted into /content/drive dir. everything held in here"
      ]
    },
    {
      "cell_type": "code",
      "execution_count": 4,
      "metadata": {
        "id": "SBs1kESiNVje"
      },
      "outputs": [],
      "source": [
        "import os\n",
        "directory=os.chdir('/content/drive/MyDrive/')"
      ]
    },
    {
      "cell_type": "code",
      "execution_count": 5,
      "metadata": {
        "id": "5UvKHrDnKuDX"
      },
      "outputs": [],
      "source": [
        "import numpy as np\n",
        "import pandas as pd\n",
        "import torch\n",
        "import re\n",
        "from transformers import (DistilBertTokenizerFast, DistilBertForSequenceClassification,\n",
        "                  RobertaTokenizerFast, RobertaForSequenceClassification, Trainer, TrainingArguments,\n",
        "                  EarlyStoppingCallback)\n",
        "from sklearn.model_selection import train_test_split"
      ]
    },
    {
      "cell_type": "code",
      "execution_count": 6,
      "metadata": {
        "id": "Ut5FH1ouKxSG"
      },
      "outputs": [],
      "source": [
        "df=pd.read_csv('./twitter-hatespeech/data/train_E6oV3lV.csv')\n",
        "train, validation, test = np.split(df, [int(.8*len(df)), int(.9*len(df))])"
      ]
    },
    {
      "cell_type": "code",
      "execution_count": 7,
      "metadata": {
        "id": "U_D-HdMgNC_X"
      },
      "outputs": [],
      "source": [
        "# remove id\n",
        "train.drop('id', axis=1,inplace=True)\n",
        "validation.drop('id', axis=1, inplace=True)\n",
        "test.drop('id', axis=1, inplace=True)"
      ]
    },
    {
      "cell_type": "code",
      "source": [
        "pos_samples=len(train[train['label']==1])\n",
        "neg_samples=len(train[train['label']==0])\n",
        "imbalance=neg_samples/pos_samples\n",
        "print(imbalance)"
      ],
      "metadata": {
        "id": "gmopuTLDj89f",
        "colab": {
          "base_uri": "https://localhost:8080/"
        },
        "outputId": "1d02757b-5d63-4c33-89f3-e0ad163ab5da"
      },
      "execution_count": 8,
      "outputs": [
        {
          "output_type": "stream",
          "name": "stdout",
          "text": [
            "13.220800889877642\n"
          ]
        }
      ]
    },
    {
      "cell_type": "code",
      "source": [
        "train_labels=train['label'].tolist()\n",
        "train_tweets=train['tweet'].tolist()\n",
        "\n",
        "validation_labels=validation['label'].tolist()\n",
        "validation_tweets=validation['tweet'].tolist()\n",
        "\n",
        "test_labels=test['label'].tolist()\n",
        "test_tweets=test['tweet'].tolist()"
      ],
      "metadata": {
        "id": "MwI4jrYwBuct"
      },
      "execution_count": 9,
      "outputs": []
    },
    {
      "cell_type": "markdown",
      "metadata": {
        "id": "NRd68FrV9JSX"
      },
      "source": [
        "## Clean tweets with regex and tokenize"
      ]
    },
    {
      "cell_type": "code",
      "execution_count": null,
      "metadata": {
        "id": "z7SrOjzq_ZlY"
      },
      "outputs": [],
      "source": [
        "def clean_tweet(string):\n",
        "\n",
        "  stopping_words=[\"for\", \"on\", \"an\", \"a\", \"of\", \"and\", \"in\", \"the\", \"to\", \"from\"]\n",
        "  if type(string)==float:\n",
        "    return \"\"\n",
        "  \n",
        "  string = string.lower()\n",
        "  emoji_pattern = re.compile(\"[\"\n",
        "                           u\"\\U0001F600-\\U0001F64F\" # emoticons\n",
        "                           u\"\\U0001F300-\\U0001F5FF\" # symbols & pictographs\n",
        "                           u\"\\U0001F680-\\U0001F6FF\" # transport & map symbols\n",
        "                           u\"\\U0001F1E0-\\U0001F1FF\" # flags (iOS)\n",
        "                           u\"\\U00002702-\\U000027B0\"\n",
        "                           u\"\\U000024C2-\\U0001F251\"\n",
        "                           \"]+\", flags=re.UNICODE )\n",
        "  \n",
        "  string= emoji_pattern.sub(r'', string)\n",
        "  string=re.sub(\"'\", \"\", string) # to avoid removing contractions in english\n",
        "  string=re.sub(\"@[A-Za-z0-9_]+\",\" \", string) # remove mentions\n",
        "  string=re.sub(\"#[A-Za-z0-9_]+\",\" \", string) # remove hashtags\n",
        "  string=re.sub('[()!?]',\" \", string) # remove punctations\n",
        "  string=re.sub('\\[.*?\\]',\" \", string) \n",
        "  string=re.sub(\"[^a-z0-9]\",\" \", string) # remove alphanumerics\n",
        "  words = string.split() # tokenisation\n",
        "  without_stopping = [w for w in words if w not in stopping_words]\n",
        "  cleaned_tweet = \" \".join(without_stopping)\n",
        "\n",
        "  return without_stopping"
      ]
    },
    {
      "cell_type": "code",
      "execution_count": null,
      "metadata": {
        "id": "UWTHABsoMZdf"
      },
      "outputs": [],
      "source": [
        "train_reg = train.copy()"
      ]
    },
    {
      "cell_type": "code",
      "execution_count": null,
      "metadata": {
        "id": "cVIf0wnEK9KA"
      },
      "outputs": [],
      "source": [
        "train_reg['cleaned_tweet']=train_reg['tweet'].apply(clean_tweet)"
      ]
    },
    {
      "cell_type": "code",
      "execution_count": null,
      "metadata": {
        "colab": {
          "base_uri": "https://localhost:8080/"
        },
        "id": "B2XgFPbxLdvB",
        "outputId": "3f19a316-a5d9-4b67-e2a6-4a0811712f65"
      },
      "outputs": [
        {
          "data": {
            "text/plain": [
              "['thanks',\n",
              " 'credit',\n",
              " 'i',\n",
              " 'cant',\n",
              " 'use',\n",
              " 'cause',\n",
              " 'they',\n",
              " 'dont',\n",
              " 'offer',\n",
              " 'wheelchair',\n",
              " 'vans',\n",
              " 'pdx']"
            ]
          },
          "execution_count": 107,
          "metadata": {},
          "output_type": "execute_result"
        }
      ],
      "source": [
        "train_reg['cleaned_tweet'][1]"
      ]
    },
    {
      "cell_type": "markdown",
      "metadata": {
        "id": "oW75DmYYP8BI"
      },
      "source": [
        "## Word2Vec\n",
        "\n",
        "- a word embedding that vectorises words such that their similarity measure (inner product) will be higher for more similar words. It is pretrained on a large corpus of text before being trained our data to (a form of transfer learning). "
      ]
    },
    {
      "cell_type": "code",
      "execution_count": null,
      "metadata": {
        "id": "HaC5w9LgP6oh"
      },
      "outputs": [],
      "source": [
        "import gensim\n",
        "from gensim.models import Word2Vec\n",
        "\n",
        "train_w2v=train_reg.copy()\n",
        "model = Word2Vec(train_w2v['cleaned_tweet'], size=100) # vector embedding of length 100 for each word"
      ]
    },
    {
      "cell_type": "code",
      "execution_count": null,
      "metadata": {
        "colab": {
          "base_uri": "https://localhost:8080/"
        },
        "id": "WsWD52tXSCfm",
        "outputId": "7004651b-7b69-491f-d89f-7aa45ee33046"
      },
      "outputs": [
        {
          "name": "stdout",
          "output_type": "stream",
          "text": [
            "cosine similarity between 'cause' and 'effect' is 0.8920637\n"
          ]
        }
      ],
      "source": [
        "print(\"cosine similarity between 'cause' and 'effect' is\", model.wv.similarity('cause', 'effect'))"
      ]
    },
    {
      "cell_type": "code",
      "execution_count": null,
      "metadata": {
        "colab": {
          "base_uri": "https://localhost:8080/"
        },
        "id": "9d8pMUE-UCis",
        "outputId": "9ed88fb9-563e-4b92-b58e-f767d39cbb05"
      },
      "outputs": [
        {
          "name": "stderr",
          "output_type": "stream",
          "text": [
            "<ipython-input-114-5cba704e36b6>:1: DeprecationWarning: Call to deprecated `__getitem__` (Method will be removed in 4.0.0, use self.wv.__getitem__() instead).\n",
            "  model['cause'].shape\n"
          ]
        },
        {
          "data": {
            "text/plain": [
              "(100,)"
            ]
          },
          "execution_count": 114,
          "metadata": {},
          "output_type": "execute_result"
        }
      ],
      "source": [
        "model['cause'].shape"
      ]
    },
    {
      "cell_type": "markdown",
      "metadata": {
        "id": "pX3o9M1cMkCY"
      },
      "source": [
        "## RoBERTa Model"
      ]
    },
    {
      "cell_type": "code",
      "execution_count": 13,
      "metadata": {
        "id": "VW5iT7UYOpr9",
        "colab": {
          "base_uri": "https://localhost:8080/",
          "height": 145,
          "referenced_widgets": [
            "2c9810359fd646a18fcb059c2ff2a2ed",
            "0fcf127195934ccda8f618b8901cd493",
            "70579cd1eac5443b84a343a93d512ea1",
            "07af077bb4d4477eb23bbd002849961a",
            "116dfc056f574114afc060609c2f57a2",
            "026c52551c554ec69c34c2e974639148",
            "5e309b1f614548e5ba0c217a956fee13",
            "55f321fa42d14f9987dd549f87d7b201",
            "438a0230f96f401daa0d3363ea8f6cc4",
            "651f7a47c0714053a45922897b356ada",
            "ac15e2d14faf4b648f9c898d43ac6af6",
            "950d47260d5d412991aac39d294c1ebd",
            "fa35938b50e04347a05acca8527f4104",
            "15dec8ca3e94427894dc9783e6fdb810",
            "2053b3f6039240df951d476c440ad489",
            "34acf64ee429483695482b2d82d6d025",
            "0541feb16d584dfeb6ce0b5c62349e4b",
            "7b36dc0bb45e4feb863e7d173490b672",
            "15bb3327e10440a699187c8378911466",
            "3e3a16b81f914ded8cd8a6b42c9212bc",
            "a65633f493b8473f9fe58b557c23dc9b",
            "2a04e045e9eb4d37b1f07fc063fb036e",
            "f8750e5c47f44936b7f345865ed83a5a",
            "3401399b1e4b40afa186cad23133643d",
            "640429963fc741aaa680cb708c6a4ab8",
            "56f8ac7ad3fb42bd85411b13dd989ceb",
            "cad44dea3b7d45a4888e7ab25232e2c9",
            "908dff6bcf354130a114c8739e82e502",
            "bdae8b05e56742499718ec9b5848230e",
            "edf11e309ec747488747186bac0d70b5",
            "b700582ac78a48c78f5fdb3b45f48c21",
            "225eb9b6e4a2473cbe554c3ef130bf11",
            "790e80f4e4f54f15b75911cc97db6482",
            "f4069dc2d9a04c88970aa1a6831b487e",
            "37adf90194074d79844000a0c991e328",
            "91b04645d3ae4fdeb104784a70c00875",
            "1a9a9ad8fa08456da159e36b505f61d0",
            "22d6112ed7d34e1ea3060bd4df43928f",
            "ee5d6036dee64b76ad27758350676d0e",
            "2c2a76ad51bf491181ee63a8efefecc6",
            "aeec54b1125a4f57b11427ea84fd2007",
            "a631242492d840c0b0c4c0f4ea6e4e0b",
            "d437a520147f417c9ac5dd9de9913e28",
            "df83caef23d44d0e85ddc9aca54a17a8"
          ]
        },
        "outputId": "c6a26059-6348-4e9b-e98e-8ab3276a2ff6"
      },
      "outputs": [
        {
          "output_type": "display_data",
          "data": {
            "text/plain": [
              "Downloading (…)olve/main/vocab.json:   0%|          | 0.00/899k [00:00<?, ?B/s]"
            ],
            "application/vnd.jupyter.widget-view+json": {
              "version_major": 2,
              "version_minor": 0,
              "model_id": "2c9810359fd646a18fcb059c2ff2a2ed"
            }
          },
          "metadata": {}
        },
        {
          "output_type": "display_data",
          "data": {
            "text/plain": [
              "Downloading (…)olve/main/merges.txt:   0%|          | 0.00/456k [00:00<?, ?B/s]"
            ],
            "application/vnd.jupyter.widget-view+json": {
              "version_major": 2,
              "version_minor": 0,
              "model_id": "950d47260d5d412991aac39d294c1ebd"
            }
          },
          "metadata": {}
        },
        {
          "output_type": "display_data",
          "data": {
            "text/plain": [
              "Downloading (…)/main/tokenizer.json:   0%|          | 0.00/1.36M [00:00<?, ?B/s]"
            ],
            "application/vnd.jupyter.widget-view+json": {
              "version_major": 2,
              "version_minor": 0,
              "model_id": "f8750e5c47f44936b7f345865ed83a5a"
            }
          },
          "metadata": {}
        },
        {
          "output_type": "display_data",
          "data": {
            "text/plain": [
              "Downloading (…)lve/main/config.json:   0%|          | 0.00/481 [00:00<?, ?B/s]"
            ],
            "application/vnd.jupyter.widget-view+json": {
              "version_major": 2,
              "version_minor": 0,
              "model_id": "f4069dc2d9a04c88970aa1a6831b487e"
            }
          },
          "metadata": {}
        }
      ],
      "source": [
        "tokenizer=RobertaTokenizerFast.from_pretrained('roberta-base')"
      ]
    },
    {
      "cell_type": "markdown",
      "metadata": {
        "id": "5CXFL-jzQJPR"
      },
      "source": [
        "- once words are tokenized we form matrices with each column being a vector (embedding) for a token in the sentence\n",
        "- since the lengths of sentences in the corpus will differ, we pad shorter sentences/truncate longer sentences so all matrices have the same dimensions"
      ]
    },
    {
      "cell_type": "code",
      "execution_count": 14,
      "metadata": {
        "id": "zUlQ4bddPEDH"
      },
      "outputs": [],
      "source": [
        "# encoding + padding and truncation of data\n",
        "train_robert_encodings = tokenizer(train_tweets, padding=\"max_length\", truncation=True)\n",
        "val_robert_encodings = tokenizer(validation_tweets, padding=\"max_length\", truncation=True)\n",
        "test_robert_encodings = tokenizer(test_tweets, padding=\"max_length\", truncation=True)"
      ]
    },
    {
      "cell_type": "code",
      "execution_count": 15,
      "metadata": {
        "id": "7e4c8EbQQQ5g"
      },
      "outputs": [],
      "source": [
        "class twitterDataSet(torch.utils.data.Dataset):\n",
        "  def __init__(self, encodings, labels):\n",
        "    self.encodings=encodings \n",
        "    self.labels=labels\n",
        "  \n",
        "  def __getitem__(self, idx):\n",
        "    item={key: torch.tensor(val[idx]) for key,val in self.encodings.items()}\n",
        "    item['labels']=torch.tensor(self.labels[idx])\n",
        "    return item # item columns are key, encoding, label\n",
        "\n",
        "  def __len__(self):\n",
        "    return len(self.labels)\n"
      ]
    },
    {
      "cell_type": "code",
      "source": [
        "train_dataset=twitterDataSet(train_robert_encodings, train_labels)\n",
        "val_dataset=twitterDataSet(val_robert_encodings, validation_labels)\n",
        "test_dataset=twitterDataSet(test_robert_encodings, test_labels)"
      ],
      "metadata": {
        "id": "OSRhAlr8BXkw"
      },
      "execution_count": 16,
      "outputs": []
    },
    {
      "cell_type": "markdown",
      "metadata": {
        "id": "WOQUdqBgUuIy"
      },
      "source": [
        "## Loading the model from the checkpoint"
      ]
    },
    {
      "cell_type": "code",
      "execution_count": null,
      "metadata": {
        "id": "6kb_Aid6SZ15"
      },
      "outputs": [],
      "source": [
        "# from_pretrained loads the model weights, num_labels indicates binary classification problem\n",
        "# need to train the model on our data to fine tune the weights for our task\n",
        "# bert_model=DistilBertForSequenceClassification.from_pretrained(\"distilbert-base-uncased\")\n",
        "# robert_model=RobertaForSequenceClassification.from_pretrained(\"roberta-base\")\n",
        "robert_model=RobertaForSequenceClassification.from_pretrained('./twitter-hatespeech/roberta/results-weighted-loss/checkpoint-3000')"
      ]
    },
    {
      "cell_type": "markdown",
      "metadata": {
        "id": "_43NqbPBXKLE"
      },
      "source": [
        "## Enable GPU if available"
      ]
    },
    {
      "cell_type": "code",
      "execution_count": 10,
      "metadata": {
        "colab": {
          "base_uri": "https://localhost:8080/",
          "height": 183
        },
        "id": "kugFXAArThvg",
        "outputId": "72b2668c-7e76-4fb5-c61b-2c1edfd511d0"
      },
      "outputs": [
        {
          "output_type": "error",
          "ename": "NameError",
          "evalue": "ignored",
          "traceback": [
            "\u001b[0;31m---------------------------------------------------------------------------\u001b[0m",
            "\u001b[0;31mNameError\u001b[0m                                 Traceback (most recent call last)",
            "\u001b[0;32m<ipython-input-10-aeb1bd8aa1a3>\u001b[0m in \u001b[0;36m<module>\u001b[0;34m\u001b[0m\n\u001b[1;32m      1\u001b[0m \u001b[0mdevice\u001b[0m \u001b[0;34m=\u001b[0m \u001b[0mtorch\u001b[0m\u001b[0;34m.\u001b[0m\u001b[0mdevice\u001b[0m\u001b[0;34m(\u001b[0m\u001b[0;34m\"cuda:0\"\u001b[0m \u001b[0;32mif\u001b[0m \u001b[0mtorch\u001b[0m\u001b[0;34m.\u001b[0m\u001b[0mcuda\u001b[0m\u001b[0;34m.\u001b[0m\u001b[0mis_available\u001b[0m\u001b[0;34m(\u001b[0m\u001b[0;34m)\u001b[0m \u001b[0;32melse\u001b[0m \u001b[0;34m\"cpu\"\u001b[0m\u001b[0;34m)\u001b[0m\u001b[0;34m\u001b[0m\u001b[0;34m\u001b[0m\u001b[0m\n\u001b[0;32m----> 2\u001b[0;31m \u001b[0mrobert_model\u001b[0m\u001b[0;34m.\u001b[0m\u001b[0mto\u001b[0m\u001b[0;34m(\u001b[0m\u001b[0mdevice\u001b[0m\u001b[0;34m)\u001b[0m \u001b[0;31m# connecting model to gpu\u001b[0m\u001b[0;34m\u001b[0m\u001b[0;34m\u001b[0m\u001b[0m\n\u001b[0m",
            "\u001b[0;31mNameError\u001b[0m: name 'robert_model' is not defined"
          ]
        }
      ],
      "source": [
        "device = torch.device(\"cuda:0\" if torch.cuda.is_available() else \"cpu\")\n",
        "robert_model.to(device) # connecting model to gpu"
      ]
    },
    {
      "cell_type": "code",
      "source": [
        "next(robert_model.parameters()).is_cuda # model loaded in cuda"
      ],
      "metadata": {
        "colab": {
          "base_uri": "https://localhost:8080/"
        },
        "id": "NzUMWKzRwIpR",
        "outputId": "c023d640-718a-4a24-a565-ff688781d983"
      },
      "execution_count": null,
      "outputs": [
        {
          "output_type": "execute_result",
          "data": {
            "text/plain": [
              "True"
            ]
          },
          "metadata": {},
          "execution_count": 15
        }
      ]
    },
    {
      "cell_type": "markdown",
      "source": [
        "These articles (https://medium.com/gumgum-tech/handling-class-imbalance-by-introducing-sample-weighting-in-the-loss-function-3bdebd8203b4 and https://towardsdatascience.com/handling-class-imbalanced-data-using-a-loss-specifically-made-for-it-6e58fd65ffab) outlines different weighting methods to deal with data imbalances. Since the imbalance is moderate ~10, inverse weighting is sufficient"
      ],
      "metadata": {
        "id": "z9DDdjcokP2p"
      }
    },
    {
      "cell_type": "code",
      "source": [
        "# inverse num of samples weighting scheme\n",
        "\n",
        "def get_weights_inverse_num_of_samples(no_of_classes, samples_per_cls, power=1):\n",
        "  weights_for_samples=1.0/np.array(np.power(samples_per_cls, power))\n",
        "  weights_for_samples=weights_for_samples/np.sum(weights_for_samples) * no_of_classes # normalise sample weights over different classes\n",
        "  return weights_for_samples"
      ],
      "metadata": {
        "id": "x45bOj4ujVX9"
      },
      "execution_count": null,
      "outputs": []
    },
    {
      "cell_type": "markdown",
      "source": [
        "The lines of code below normalizes these sample weights across a batch of samples"
      ],
      "metadata": {
        "id": "0iDhfo6rnLbJ"
      }
    },
    {
      "cell_type": "code",
      "source": [
        "no_of_classes=2\n",
        "batch_size=16\n",
        "\n",
        "# weights for each class\n",
        "b_labels=torch.cuda.FloatTensor(batch_size, no_of_classes) # torch.tensor of size [batch_size, no_of_classes]\n",
        "# b_labels.to(device)\n",
        "weights_for_samples=get_weights_inverse_num_of_samples(no_of_classes, [neg_samples, pos_samples], power=0.5)\n",
        "weights_for_samples=torch.cuda.FloatTensor(weights_for_samples)\n",
        "# weights_for_samples=weights_for_samples.unsqueeze(0)\n",
        "# weights_for_samples=weights_for_samples.repeat(b_labels.shape[0],1)*b_labels\n",
        "# weights_for_samples=weights_for_samples.sum(1)\n",
        "# weights_for_samples=weights_for_samples.unsqueeze(1)\n",
        "# weights_for_samples=weights_for_samples.repeat(1,no_of_classes)"
      ],
      "metadata": {
        "id": "1f8sTIOgkhJ6"
      },
      "execution_count": null,
      "outputs": []
    },
    {
      "cell_type": "code",
      "source": [
        "torch.cuda.is_available()"
      ],
      "metadata": {
        "colab": {
          "base_uri": "https://localhost:8080/"
        },
        "id": "uD3kZM7IxajD",
        "outputId": "8acb1027-4188-4f0f-843f-47f41e46057b"
      },
      "execution_count": null,
      "outputs": [
        {
          "output_type": "execute_result",
          "data": {
            "text/plain": [
              "True"
            ]
          },
          "metadata": {},
          "execution_count": 18
        }
      ]
    },
    {
      "cell_type": "code",
      "source": [
        "weights_for_samples"
      ],
      "metadata": {
        "colab": {
          "base_uri": "https://localhost:8080/"
        },
        "id": "wNFhZMwdwkhB",
        "outputId": "91294596-850d-4a28-9e66-c5d588b25496"
      },
      "execution_count": null,
      "outputs": [
        {
          "output_type": "execute_result",
          "data": {
            "text/plain": [
              "tensor([0.4314, 1.5686], device='cuda:0')"
            ]
          },
          "metadata": {},
          "execution_count": 19
        }
      ]
    },
    {
      "cell_type": "code",
      "source": [
        "b_labels.is_cuda"
      ],
      "metadata": {
        "colab": {
          "base_uri": "https://localhost:8080/"
        },
        "id": "BPYSZYcKwgS5",
        "outputId": "d4e0af75-4db0-435f-f5e8-5aa6e50c8240"
      },
      "execution_count": null,
      "outputs": [
        {
          "output_type": "execute_result",
          "data": {
            "text/plain": [
              "True"
            ]
          },
          "metadata": {},
          "execution_count": 20
        }
      ]
    },
    {
      "cell_type": "code",
      "source": [
        "# weighted updates\n",
        "class CustomTrainer(Trainer):\n",
        "  def __init__(self, *args, **kwargs):\n",
        "        super().__init__(*args, **kwargs) \n",
        "\n",
        "  def compute_loss(self, model, inputs, return_outputs=False):\n",
        "    labels=inputs.pop(\"labels\")\n",
        "    #forward pass\n",
        "    outputs=model(**inputs)\n",
        "    logits=outputs.logits\n",
        "    # compute custom weighted loss\n",
        "    loss_fct = torch.nn.CrossEntropyLoss(weight=weights_for_samples)\n",
        "    loss = loss_fct(logits, labels)\n",
        "    return (loss, outputs) if return_outputs else loss"
      ],
      "metadata": {
        "id": "W17_hgeVk8ex"
      },
      "execution_count": null,
      "outputs": []
    },
    {
      "cell_type": "markdown",
      "source": [
        "no callbacks since eval_strat is 'steps' so might end before finishing an entire epoch. this would meant the model is not being trained on the entire datase.https://discuss.huggingface.co/t/early-stopping-patience-param-in-earlystoppingcallback/17762\n",
        ")\n"
      ],
      "metadata": {
        "id": "1C_w0lJxHtNM"
      }
    },
    {
      "cell_type": "code",
      "execution_count": null,
      "metadata": {
        "id": "vo0BPoCtUUpf"
      },
      "outputs": [],
      "source": [
        "from transformers import Trainer, TrainingArguments\n",
        "\n",
        "training_args = TrainingArguments(\n",
        "    output_dir='./twitter-hatespeech/roberta/results-weighted-loss',\n",
        "    num_train_epochs=3,\n",
        "    per_device_train_batch_size=16,\n",
        "    per_device_eval_batch_size=64,\n",
        "    warmup_steps=500,\n",
        "    weight_decay=0.01, # regularisation\n",
        "    logging_dir='./twitter-hatespeech/roberta/logs-weighted-loss',\n",
        "    logging_steps=40, \n",
        "    evaluation_strategy=\"steps\",\n",
        "    eval_steps=50,\n",
        "    report_to=\"all\",\n",
        "    metric_for_best_model = 'eval_loss',\n",
        "    load_best_model_at_end = True,\n",
        "    greater_is_better=False\n",
        ")\n",
        "\n",
        "trainer = CustomTrainer(\n",
        "    model=robert_model,\n",
        "    args=training_args,\n",
        "    train_dataset=train_dataset,\n",
        "    eval_dataset=val_dataset,  #evaluation   \n",
        ")\n"
      ]
    },
    {
      "cell_type": "code",
      "source": [
        "trainer.train(resume_from_checkpoint=True)"
      ],
      "metadata": {
        "colab": {
          "base_uri": "https://localhost:8080/",
          "height": 1000,
          "referenced_widgets": [
            "bc5434cf7290475e9285a3cfc80e6897",
            "1c7cebf1601a4ef88e31c9efc7692b75",
            "29a601dfb4384388b6d2359251f076b9",
            "7b4d761007754102836da47a6aa58e00",
            "33f7f9b732934bc28be7434d045969e1",
            "bd3a9715c38043f9b477595e83b1d369",
            "e4c32c6b741446dcbd9641a6d05a7f8e",
            "735f545283f54909aa1a83c44562cd0c",
            "632a5910b257498dadd06385417cfe4d",
            "039ac17142d3448ba109fbe0ae3478b0",
            "08ebed5ad7394b11950a2f43f7274e51"
          ]
        },
        "id": "2uRcm-sYvgGO",
        "outputId": "8ddfb5d3-c97d-4cef-b69f-365d00bb21c2"
      },
      "execution_count": null,
      "outputs": [
        {
          "output_type": "stream",
          "name": "stderr",
          "text": [
            "Loading model from ./twitter-hatespeech/roberta/results-weighted-loss/checkpoint-3000.\n",
            "***** Running training *****\n",
            "  Num examples = 25569\n",
            "  Num Epochs = 3\n",
            "  Instantaneous batch size per device = 16\n",
            "  Total train batch size (w. parallel, distributed & accumulation) = 16\n",
            "  Gradient Accumulation steps = 1\n",
            "  Total optimization steps = 4797\n",
            "  Number of trainable parameters = 124647170\n",
            "  Continuing training from checkpoint, will skip to saved global_step\n",
            "  Continuing training from epoch 1\n",
            "  Continuing training from global step 3000\n",
            "  Will skip the first 1 epochs then the first 1401 batches in the first epoch. If this takes a lot of time, you can add the `--ignore_data_skip` flag to your launch command, but you will resume the training on data already seen by your model.\n"
          ]
        },
        {
          "output_type": "display_data",
          "data": {
            "text/plain": [
              "  0%|          | 0/1401 [00:00<?, ?it/s]"
            ],
            "application/vnd.jupyter.widget-view+json": {
              "version_major": 2,
              "version_minor": 0,
              "model_id": "bc5434cf7290475e9285a3cfc80e6897"
            }
          },
          "metadata": {}
        },
        {
          "output_type": "display_data",
          "data": {
            "text/plain": [
              "<IPython.core.display.HTML object>"
            ],
            "text/html": [
              "\n",
              "    <div>\n",
              "      \n",
              "      <progress value='4797' max='4797' style='width:300px; height:20px; vertical-align: middle;'></progress>\n",
              "      [4797/4797 1:47:00, Epoch 3/3]\n",
              "    </div>\n",
              "    <table border=\"1\" class=\"dataframe\">\n",
              "  <thead>\n",
              " <tr style=\"text-align: left;\">\n",
              "      <th>Step</th>\n",
              "      <th>Training Loss</th>\n",
              "      <th>Validation Loss</th>\n",
              "    </tr>\n",
              "  </thead>\n",
              "  <tbody>\n",
              "    <tr>\n",
              "      <td>3050</td>\n",
              "      <td>0.135600</td>\n",
              "      <td>0.169649</td>\n",
              "    </tr>\n",
              "    <tr>\n",
              "      <td>3100</td>\n",
              "      <td>0.075400</td>\n",
              "      <td>0.240823</td>\n",
              "    </tr>\n",
              "    <tr>\n",
              "      <td>3150</td>\n",
              "      <td>0.178800</td>\n",
              "      <td>0.163260</td>\n",
              "    </tr>\n",
              "    <tr>\n",
              "      <td>3200</td>\n",
              "      <td>0.058900</td>\n",
              "      <td>0.267151</td>\n",
              "    </tr>\n",
              "    <tr>\n",
              "      <td>3250</td>\n",
              "      <td>0.180800</td>\n",
              "      <td>0.314958</td>\n",
              "    </tr>\n",
              "    <tr>\n",
              "      <td>3300</td>\n",
              "      <td>0.123700</td>\n",
              "      <td>0.220799</td>\n",
              "    </tr>\n",
              "    <tr>\n",
              "      <td>3350</td>\n",
              "      <td>0.127200</td>\n",
              "      <td>0.185631</td>\n",
              "    </tr>\n",
              "    <tr>\n",
              "      <td>3400</td>\n",
              "      <td>0.148200</td>\n",
              "      <td>0.233415</td>\n",
              "    </tr>\n",
              "    <tr>\n",
              "      <td>3450</td>\n",
              "      <td>0.148900</td>\n",
              "      <td>0.226275</td>\n",
              "    </tr>\n",
              "    <tr>\n",
              "      <td>3500</td>\n",
              "      <td>0.150400</td>\n",
              "      <td>0.226942</td>\n",
              "    </tr>\n",
              "    <tr>\n",
              "      <td>3550</td>\n",
              "      <td>0.108200</td>\n",
              "      <td>0.490261</td>\n",
              "    </tr>\n",
              "    <tr>\n",
              "      <td>3600</td>\n",
              "      <td>0.210900</td>\n",
              "      <td>0.252873</td>\n",
              "    </tr>\n",
              "    <tr>\n",
              "      <td>3650</td>\n",
              "      <td>0.301700</td>\n",
              "      <td>0.387846</td>\n",
              "    </tr>\n",
              "    <tr>\n",
              "      <td>3700</td>\n",
              "      <td>0.194300</td>\n",
              "      <td>0.239350</td>\n",
              "    </tr>\n",
              "    <tr>\n",
              "      <td>3750</td>\n",
              "      <td>0.247300</td>\n",
              "      <td>0.411483</td>\n",
              "    </tr>\n",
              "    <tr>\n",
              "      <td>3800</td>\n",
              "      <td>0.315100</td>\n",
              "      <td>0.390033</td>\n",
              "    </tr>\n",
              "    <tr>\n",
              "      <td>3850</td>\n",
              "      <td>0.464800</td>\n",
              "      <td>0.494501</td>\n",
              "    </tr>\n",
              "    <tr>\n",
              "      <td>3900</td>\n",
              "      <td>0.469600</td>\n",
              "      <td>0.487168</td>\n",
              "    </tr>\n",
              "    <tr>\n",
              "      <td>3950</td>\n",
              "      <td>0.437300</td>\n",
              "      <td>0.482433</td>\n",
              "    </tr>\n",
              "    <tr>\n",
              "      <td>4000</td>\n",
              "      <td>0.425200</td>\n",
              "      <td>0.510434</td>\n",
              "    </tr>\n",
              "    <tr>\n",
              "      <td>4050</td>\n",
              "      <td>0.534300</td>\n",
              "      <td>0.506117</td>\n",
              "    </tr>\n",
              "    <tr>\n",
              "      <td>4100</td>\n",
              "      <td>0.483400</td>\n",
              "      <td>0.489115</td>\n",
              "    </tr>\n",
              "    <tr>\n",
              "      <td>4150</td>\n",
              "      <td>0.450100</td>\n",
              "      <td>0.487386</td>\n",
              "    </tr>\n",
              "    <tr>\n",
              "      <td>4200</td>\n",
              "      <td>0.537100</td>\n",
              "      <td>0.504720</td>\n",
              "    </tr>\n",
              "    <tr>\n",
              "      <td>4250</td>\n",
              "      <td>0.559200</td>\n",
              "      <td>0.502614</td>\n",
              "    </tr>\n",
              "    <tr>\n",
              "      <td>4300</td>\n",
              "      <td>0.391800</td>\n",
              "      <td>0.539690</td>\n",
              "    </tr>\n",
              "    <tr>\n",
              "      <td>4350</td>\n",
              "      <td>0.587400</td>\n",
              "      <td>0.501231</td>\n",
              "    </tr>\n",
              "    <tr>\n",
              "      <td>4400</td>\n",
              "      <td>0.551100</td>\n",
              "      <td>0.504669</td>\n",
              "    </tr>\n",
              "    <tr>\n",
              "      <td>4450</td>\n",
              "      <td>0.509400</td>\n",
              "      <td>0.502895</td>\n",
              "    </tr>\n",
              "    <tr>\n",
              "      <td>4500</td>\n",
              "      <td>0.433200</td>\n",
              "      <td>0.503491</td>\n",
              "    </tr>\n",
              "    <tr>\n",
              "      <td>4550</td>\n",
              "      <td>0.528900</td>\n",
              "      <td>0.592073</td>\n",
              "    </tr>\n",
              "    <tr>\n",
              "      <td>4600</td>\n",
              "      <td>0.556200</td>\n",
              "      <td>0.508557</td>\n",
              "    </tr>\n",
              "    <tr>\n",
              "      <td>4650</td>\n",
              "      <td>0.529900</td>\n",
              "      <td>0.509764</td>\n",
              "    </tr>\n",
              "    <tr>\n",
              "      <td>4700</td>\n",
              "      <td>0.471500</td>\n",
              "      <td>0.504224</td>\n",
              "    </tr>\n",
              "    <tr>\n",
              "      <td>4750</td>\n",
              "      <td>0.447300</td>\n",
              "      <td>0.431150</td>\n",
              "    </tr>\n",
              "  </tbody>\n",
              "</table><p>"
            ]
          },
          "metadata": {}
        },
        {
          "output_type": "stream",
          "name": "stderr",
          "text": [
            "***** Running Evaluation *****\n",
            "  Num examples = 3196\n",
            "  Batch size = 64\n",
            "***** Running Evaluation *****\n",
            "  Num examples = 3196\n",
            "  Batch size = 64\n",
            "***** Running Evaluation *****\n",
            "  Num examples = 3196\n",
            "  Batch size = 64\n",
            "***** Running Evaluation *****\n",
            "  Num examples = 3196\n",
            "  Batch size = 64\n",
            "***** Running Evaluation *****\n",
            "  Num examples = 3196\n",
            "  Batch size = 64\n",
            "***** Running Evaluation *****\n",
            "  Num examples = 3196\n",
            "  Batch size = 64\n",
            "***** Running Evaluation *****\n",
            "  Num examples = 3196\n",
            "  Batch size = 64\n",
            "***** Running Evaluation *****\n",
            "  Num examples = 3196\n",
            "  Batch size = 64\n",
            "***** Running Evaluation *****\n",
            "  Num examples = 3196\n",
            "  Batch size = 64\n",
            "***** Running Evaluation *****\n",
            "  Num examples = 3196\n",
            "  Batch size = 64\n",
            "Saving model checkpoint to ./twitter-hatespeech/roberta/results-weighted-loss/checkpoint-3500\n",
            "Configuration saved in ./twitter-hatespeech/roberta/results-weighted-loss/checkpoint-3500/config.json\n",
            "Model weights saved in ./twitter-hatespeech/roberta/results-weighted-loss/checkpoint-3500/pytorch_model.bin\n",
            "***** Running Evaluation *****\n",
            "  Num examples = 3196\n",
            "  Batch size = 64\n",
            "***** Running Evaluation *****\n",
            "  Num examples = 3196\n",
            "  Batch size = 64\n",
            "***** Running Evaluation *****\n",
            "  Num examples = 3196\n",
            "  Batch size = 64\n",
            "***** Running Evaluation *****\n",
            "  Num examples = 3196\n",
            "  Batch size = 64\n",
            "***** Running Evaluation *****\n",
            "  Num examples = 3196\n",
            "  Batch size = 64\n",
            "***** Running Evaluation *****\n",
            "  Num examples = 3196\n",
            "  Batch size = 64\n",
            "***** Running Evaluation *****\n",
            "  Num examples = 3196\n",
            "  Batch size = 64\n",
            "***** Running Evaluation *****\n",
            "  Num examples = 3196\n",
            "  Batch size = 64\n",
            "***** Running Evaluation *****\n",
            "  Num examples = 3196\n",
            "  Batch size = 64\n",
            "***** Running Evaluation *****\n",
            "  Num examples = 3196\n",
            "  Batch size = 64\n",
            "Saving model checkpoint to ./twitter-hatespeech/roberta/results-weighted-loss/checkpoint-4000\n",
            "Configuration saved in ./twitter-hatespeech/roberta/results-weighted-loss/checkpoint-4000/config.json\n",
            "Model weights saved in ./twitter-hatespeech/roberta/results-weighted-loss/checkpoint-4000/pytorch_model.bin\n",
            "***** Running Evaluation *****\n",
            "  Num examples = 3196\n",
            "  Batch size = 64\n",
            "***** Running Evaluation *****\n",
            "  Num examples = 3196\n",
            "  Batch size = 64\n",
            "***** Running Evaluation *****\n",
            "  Num examples = 3196\n",
            "  Batch size = 64\n",
            "***** Running Evaluation *****\n",
            "  Num examples = 3196\n",
            "  Batch size = 64\n",
            "***** Running Evaluation *****\n",
            "  Num examples = 3196\n",
            "  Batch size = 64\n",
            "***** Running Evaluation *****\n",
            "  Num examples = 3196\n",
            "  Batch size = 64\n",
            "***** Running Evaluation *****\n",
            "  Num examples = 3196\n",
            "  Batch size = 64\n",
            "***** Running Evaluation *****\n",
            "  Num examples = 3196\n",
            "  Batch size = 64\n",
            "***** Running Evaluation *****\n",
            "  Num examples = 3196\n",
            "  Batch size = 64\n",
            "***** Running Evaluation *****\n",
            "  Num examples = 3196\n",
            "  Batch size = 64\n",
            "Saving model checkpoint to ./twitter-hatespeech/roberta/results-weighted-loss/checkpoint-4500\n",
            "Configuration saved in ./twitter-hatespeech/roberta/results-weighted-loss/checkpoint-4500/config.json\n",
            "Model weights saved in ./twitter-hatespeech/roberta/results-weighted-loss/checkpoint-4500/pytorch_model.bin\n",
            "***** Running Evaluation *****\n",
            "  Num examples = 3196\n",
            "  Batch size = 64\n",
            "***** Running Evaluation *****\n",
            "  Num examples = 3196\n",
            "  Batch size = 64\n",
            "***** Running Evaluation *****\n",
            "  Num examples = 3196\n",
            "  Batch size = 64\n",
            "***** Running Evaluation *****\n",
            "  Num examples = 3196\n",
            "  Batch size = 64\n",
            "***** Running Evaluation *****\n",
            "  Num examples = 3196\n",
            "  Batch size = 64\n",
            "\n",
            "\n",
            "Training completed. Do not forget to share your model on huggingface.co/models =)\n",
            "\n",
            "\n",
            "Loading best model from ./twitter-hatespeech/roberta/results-weighted-loss/checkpoint-3000 (score: 0.1741652935743332).\n"
          ]
        },
        {
          "output_type": "execute_result",
          "data": {
            "text/plain": [
              "TrainOutput(global_step=4797, training_loss=0.13047091812299197, metrics={'train_runtime': 6428.3298, 'train_samples_per_second': 11.933, 'train_steps_per_second': 0.746, 'total_flos': 2.039715834467328e+16, 'train_loss': 0.13047091812299197, 'epoch': 3.0})"
            ]
          },
          "metadata": {},
          "execution_count": 24
        }
      ]
    },
    {
      "cell_type": "code",
      "execution_count": null,
      "metadata": {
        "id": "Ae3joFSFodJj",
        "colab": {
          "base_uri": "https://localhost:8080/"
        },
        "outputId": "6414e160-91fa-475b-c683-50ea4cb23d73"
      },
      "outputs": [
        {
          "output_type": "stream",
          "name": "stderr",
          "text": [
            "Saving model checkpoint to ./twitter-hatespeech/roberta/results-weighted-loss\n",
            "Configuration saved in ./twitter-hatespeech/roberta/results-weighted-loss/config.json\n",
            "Model weights saved in ./twitter-hatespeech/roberta/results-weighted-loss/pytorch_model.bin\n"
          ]
        }
      ],
      "source": [
        "# add a few fancy plots of training against epoch or steps\n",
        "trainer.save_model() # saves to output_dir"
      ]
    },
    {
      "cell_type": "code",
      "execution_count": 17,
      "metadata": {
        "id": "F7CTGyLcqGln"
      },
      "outputs": [],
      "source": [
        "model=RobertaForSequenceClassification.from_pretrained('./twitter-hatespeech/roberta/results-weighted-loss')"
      ]
    },
    {
      "cell_type": "markdown",
      "source": [
        "https://stackoverflow.com/questions/57798033/valueerror-target-size-torch-size16-must-be-the-same-as-input-size-torch\n",
        "\n",
        "https://discuss.huggingface.co/t/specify-loss-for-trainer-trainingarguments/10481/4"
      ],
      "metadata": {
        "id": "xX3azoMGoA11"
      }
    },
    {
      "cell_type": "markdown",
      "metadata": {
        "id": "GtHWEtsDbL31"
      },
      "source": [
        "## Inference"
      ]
    },
    {
      "cell_type": "code",
      "execution_count": 18,
      "metadata": {
        "id": "23qLa8mIdbMh"
      },
      "outputs": [],
      "source": [
        "def to_check_result(test_encoding):\n",
        "  input_ids=torch.tensor(test_encoding[\"input_ids\"]) # transfer array to gpu\n",
        "  attention_mask = torch.tensor(test_encoding[\"attention_mask\"])\n",
        "  # freeze model weights/no grad calculation\n",
        "  with torch.no_grad():\n",
        "    # add dimension to tensor and input into model\n",
        "    outputs=model(input_ids.unsqueeze(0), attention_mask.unsqueeze(0))\n",
        "  y = np.argmax(outputs[0].to('cpu').numpy())\n",
        "\n",
        "  return y"
      ]
    },
    {
      "cell_type": "code",
      "execution_count": 19,
      "metadata": {
        "id": "txWBn8thbLOP"
      },
      "outputs": [],
      "source": [
        "# create encodings for test tweets and evaluater\n",
        "l2=[]\n",
        "for i in test['tweet']:\n",
        "\n",
        "  test_encoding=tokenizer(i, truncation=True, padding=True)\n",
        "  op=to_check_result(test_encoding)\n",
        "  l2.append(op)"
      ]
    },
    {
      "cell_type": "code",
      "source": [
        "from sklearn.metrics import confusion_matrix, ConfusionMatrixDisplay, precision_score, recall_score, f1_score, classification_report\n",
        "import matplotlib.pyplot as plt\n",
        "\n",
        "confusion_matrix=confusion_matrix(test['label'], l2)\n",
        "cm_display=ConfusionMatrixDisplay(confusion_matrix, display_labels=None)\n",
        "print(classification_report(test['label'], l2))\n",
        "\n",
        "cm_display.plot()\n",
        "plt.show()"
      ],
      "metadata": {
        "colab": {
          "base_uri": "https://localhost:8080/",
          "height": 435
        },
        "id": "8_7z2qXZ7Jye",
        "outputId": "aa36edaa-56b9-454d-c496-0d0b215286dd"
      },
      "execution_count": 20,
      "outputs": [
        {
          "output_type": "stream",
          "name": "stdout",
          "text": [
            "              precision    recall  f1-score   support\n",
            "\n",
            "           0       0.99      0.99      0.99      2969\n",
            "           1       0.85      0.83      0.84       228\n",
            "\n",
            "    accuracy                           0.98      3197\n",
            "   macro avg       0.92      0.91      0.91      3197\n",
            "weighted avg       0.98      0.98      0.98      3197\n",
            "\n"
          ]
        },
        {
          "output_type": "display_data",
          "data": {
            "text/plain": [
              "<Figure size 432x288 with 2 Axes>"
            ],
            "image/png": "[encoded data removed]"
          },
          "metadata": {
            "needs_background": "light"
          }
        }
      ]
    },
    {
      "cell_type": "markdown",
      "source": [
        "Recall: what proportion of the positive class (hate speech) did we correctly identify\n",
        "\n",
        "Precison: of the things we identified as positive, how many were actual positive"
      ],
      "metadata": {
        "id": "TZ6vTRNY_osA"
      }
    },
    {
      "cell_type": "code",
      "source": [
        "precision=precision_score(test_labels, l2)\n",
        "recall=recall_score(test_labels, l2)\n",
        "f1_score=f1_score(test_labels, l2)"
      ],
      "metadata": {
        "id": "D8cCV-CB-RMa"
      },
      "execution_count": null,
      "outputs": []
    },
    {
      "cell_type": "code",
      "source": [
        "print(f\"precision is {precision}\")\n",
        "print(f\"recall is {recall}\")\n",
        "print(f\"f1_score is {f1_score}\")"
      ],
      "metadata": {
        "colab": {
          "base_uri": "https://localhost:8080/"
        },
        "id": "BBON0VMc_M_f",
        "outputId": "c89b8d16-f38a-4edb-f3b1-d73b0cc09dc2"
      },
      "execution_count": null,
      "outputs": [
        {
          "output_type": "stream",
          "name": "stdout",
          "text": [
            "precision is 0.8513513513513513\n",
            "recall is 0.8289473684210527\n",
            "f1_score is 0.8400000000000001\n"
          ]
        }
      ]
    }
  ],
  "metadata": {
    "accelerator": "GPU",
    "colab": {
      "provenance": [],
      "include_colab_link": true
    },
    "gpuClass": "standard",
    "kernelspec": {
      "display_name": "Python 3",
      "name": "python3"
    },
    "language_info": {
      "name": "python"
    },
    "widgets": {
      "application/vnd.jupyter.widget-state+json": {
        "bc5434cf7290475e9285a3cfc80e6897": {
          "model_module": "@jupyter-widgets/controls",
          "model_name": "HBoxModel",
          "model_module_version": "1.5.0",
          "state": {
            "_dom_classes": [],
            "_model_module": "@jupyter-widgets/controls",
            "_model_module_version": "1.5.0",
            "_model_name": "HBoxModel",
            "_view_count": null,
            "_view_module": "@jupyter-widgets/controls",
            "_view_module_version": "1.5.0",
            "_view_name": "HBoxView",
            "box_style": "",
            "children": [
              "IPY_MODEL_1c7cebf1601a4ef88e31c9efc7692b75",
              "IPY_MODEL_29a601dfb4384388b6d2359251f076b9",
              "IPY_MODEL_7b4d761007754102836da47a6aa58e00"
            ],
            "layout": "IPY_MODEL_33f7f9b732934bc28be7434d045969e1"
          }
        },
        "1c7cebf1601a4ef88e31c9efc7692b75": {
          "model_module": "@jupyter-widgets/controls",
          "model_name": "HTMLModel",
          "model_module_version": "1.5.0",
          "state": {
            "_dom_classes": [],
            "_model_module": "@jupyter-widgets/controls",
            "_model_module_version": "1.5.0",
            "_model_name": "HTMLModel",
            "_view_count": null,
            "_view_module": "@jupyter-widgets/controls",
            "_view_module_version": "1.5.0",
            "_view_name": "HTMLView",
            "description": "",
            "description_tooltip": null,
            "layout": "IPY_MODEL_bd3a9715c38043f9b477595e83b1d369",
            "placeholder": "​",
            "style": "IPY_MODEL_e4c32c6b741446dcbd9641a6d05a7f8e",
            "value": "Skipping the first batches: 100%"
          }
        },
        "29a601dfb4384388b6d2359251f076b9": {
          "model_module": "@jupyter-widgets/controls",
          "model_name": "FloatProgressModel",
          "model_module_version": "1.5.0",
          "state": {
            "_dom_classes": [],
            "_model_module": "@jupyter-widgets/controls",
            "_model_module_version": "1.5.0",
            "_model_name": "FloatProgressModel",
            "_view_count": null,
            "_view_module": "@jupyter-widgets/controls",
            "_view_module_version": "1.5.0",
            "_view_name": "ProgressView",
            "bar_style": "success",
            "description": "",
            "description_tooltip": null,
            "layout": "IPY_MODEL_735f545283f54909aa1a83c44562cd0c",
            "max": 1401,
            "min": 0,
            "orientation": "horizontal",
            "style": "IPY_MODEL_632a5910b257498dadd06385417cfe4d",
            "value": 1401
          }
        },
        "7b4d761007754102836da47a6aa58e00": {
          "model_module": "@jupyter-widgets/controls",
          "model_name": "HTMLModel",
          "model_module_version": "1.5.0",
          "state": {
            "_dom_classes": [],
            "_model_module": "@jupyter-widgets/controls",
            "_model_module_version": "1.5.0",
            "_model_name": "HTMLModel",
            "_view_count": null,
            "_view_module": "@jupyter-widgets/controls",
            "_view_module_version": "1.5.0",
            "_view_name": "HTMLView",
            "description": "",
            "description_tooltip": null,
            "layout": "IPY_MODEL_039ac17142d3448ba109fbe0ae3478b0",
            "placeholder": "​",
            "style": "IPY_MODEL_08ebed5ad7394b11950a2f43f7274e51",
            "value": " 1401/1401 [00:05&lt;00:00, 458.01it/s]"
          }
        },
        "33f7f9b732934bc28be7434d045969e1": {
          "model_module": "@jupyter-widgets/base",
          "model_name": "LayoutModel",
          "model_module_version": "1.2.0",
          "state": {
            "_model_module": "@jupyter-widgets/base",
            "_model_module_version": "1.2.0",
            "_model_name": "LayoutModel",
            "_view_count": null,
            "_view_module": "@jupyter-widgets/base",
            "_view_module_version": "1.2.0",
            "_view_name": "LayoutView",
            "align_content": null,
            "align_items": null,
            "align_self": null,
            "border": null,
            "bottom": null,
            "display": null,
            "flex": null,
            "flex_flow": null,
            "grid_area": null,
            "grid_auto_columns": null,
            "grid_auto_flow": null,
            "grid_auto_rows": null,
            "grid_column": null,
            "grid_gap": null,
            "grid_row": null,
            "grid_template_areas": null,
            "grid_template_columns": null,
            "grid_template_rows": null,
            "height": null,
            "justify_content": null,
            "justify_items": null,
            "left": null,
            "margin": null,
            "max_height": null,
            "max_width": null,
            "min_height": null,
            "min_width": null,
            "object_fit": null,
            "object_position": null,
            "order": null,
            "overflow": null,
            "overflow_x": null,
            "overflow_y": null,
            "padding": null,
            "right": null,
            "top": null,
            "visibility": null,
            "width": null
          }
        },
        "bd3a9715c38043f9b477595e83b1d369": {
          "model_module": "@jupyter-widgets/base",
          "model_name": "LayoutModel",
          "model_module_version": "1.2.0",
          "state": {
            "_model_module": "@jupyter-widgets/base",
            "_model_module_version": "1.2.0",
            "_model_name": "LayoutModel",
            "_view_count": null,
            "_view_module": "@jupyter-widgets/base",
            "_view_module_version": "1.2.0",
            "_view_name": "LayoutView",
            "align_content": null,
            "align_items": null,
            "align_self": null,
            "border": null,
            "bottom": null,
            "display": null,
            "flex": null,
            "flex_flow": null,
            "grid_area": null,
            "grid_auto_columns": null,
            "grid_auto_flow": null,
            "grid_auto_rows": null,
            "grid_column": null,
            "grid_gap": null,
            "grid_row": null,
            "grid_template_areas": null,
            "grid_template_columns": null,
            "grid_template_rows": null,
            "height": null,
            "justify_content": null,
            "justify_items": null,
            "left": null,
            "margin": null,
            "max_height": null,
            "max_width": null,
            "min_height": null,
            "min_width": null,
            "object_fit": null,
            "object_position": null,
            "order": null,
            "overflow": null,
            "overflow_x": null,
            "overflow_y": null,
            "padding": null,
            "right": null,
            "top": null,
            "visibility": null,
            "width": null
          }
        },
        "e4c32c6b741446dcbd9641a6d05a7f8e": {
          "model_module": "@jupyter-widgets/controls",
          "model_name": "DescriptionStyleModel",
          "model_module_version": "1.5.0",
          "state": {
            "_model_module": "@jupyter-widgets/controls",
            "_model_module_version": "1.5.0",
            "_model_name": "DescriptionStyleModel",
            "_view_count": null,
            "_view_module": "@jupyter-widgets/base",
            "_view_module_version": "1.2.0",
            "_view_name": "StyleView",
            "description_width": ""
          }
        },
        "735f545283f54909aa1a83c44562cd0c": {
          "model_module": "@jupyter-widgets/base",
          "model_name": "LayoutModel",
          "model_module_version": "1.2.0",
          "state": {
            "_model_module": "@jupyter-widgets/base",
            "_model_module_version": "1.2.0",
            "_model_name": "LayoutModel",
            "_view_count": null,
            "_view_module": "@jupyter-widgets/base",
            "_view_module_version": "1.2.0",
            "_view_name": "LayoutView",
            "align_content": null,
            "align_items": null,
            "align_self": null,
            "border": null,
            "bottom": null,
            "display": null,
            "flex": null,
            "flex_flow": null,
            "grid_area": null,
            "grid_auto_columns": null,
            "grid_auto_flow": null,
            "grid_auto_rows": null,
            "grid_column": null,
            "grid_gap": null,
            "grid_row": null,
            "grid_template_areas": null,
            "grid_template_columns": null,
            "grid_template_rows": null,
            "height": null,
            "justify_content": null,
            "justify_items": null,
            "left": null,
            "margin": null,
            "max_height": null,
            "max_width": null,
            "min_height": null,
            "min_width": null,
            "object_fit": null,
            "object_position": null,
            "order": null,
            "overflow": null,
            "overflow_x": null,
            "overflow_y": null,
            "padding": null,
            "right": null,
            "top": null,
            "visibility": null,
            "width": null
          }
        },
        "632a5910b257498dadd06385417cfe4d": {
          "model_module": "@jupyter-widgets/controls",
          "model_name": "ProgressStyleModel",
          "model_module_version": "1.5.0",
          "state": {
            "_model_module": "@jupyter-widgets/controls",
            "_model_module_version": "1.5.0",
            "_model_name": "ProgressStyleModel",
            "_view_count": null,
            "_view_module": "@jupyter-widgets/base",
            "_view_module_version": "1.2.0",
            "_view_name": "StyleView",
            "bar_color": null,
            "description_width": ""
          }
        },
        "039ac17142d3448ba109fbe0ae3478b0": {
          "model_module": "@jupyter-widgets/base",
          "model_name": "LayoutModel",
          "model_module_version": "1.2.0",
          "state": {
            "_model_module": "@jupyter-widgets/base",
            "_model_module_version": "1.2.0",
            "_model_name": "LayoutModel",
            "_view_count": null,
            "_view_module": "@jupyter-widgets/base",
            "_view_module_version": "1.2.0",
            "_view_name": "LayoutView",
            "align_content": null,
            "align_items": null,
            "align_self": null,
            "border": null,
            "bottom": null,
            "display": null,
            "flex": null,
            "flex_flow": null,
            "grid_area": null,
            "grid_auto_columns": null,
            "grid_auto_flow": null,
            "grid_auto_rows": null,
            "grid_column": null,
            "grid_gap": null,
            "grid_row": null,
            "grid_template_areas": null,
            "grid_template_columns": null,
            "grid_template_rows": null,
            "height": null,
            "justify_content": null,
            "justify_items": null,
            "left": null,
            "margin": null,
            "max_height": null,
            "max_width": null,
            "min_height": null,
            "min_width": null,
            "object_fit": null,
            "object_position": null,
            "order": null,
            "overflow": null,
            "overflow_x": null,
            "overflow_y": null,
            "padding": null,
            "right": null,
            "top": null,
            "visibility": null,
            "width": null
          }
        },
        "08ebed5ad7394b11950a2f43f7274e51": {
          "model_module": "@jupyter-widgets/controls",
          "model_name": "DescriptionStyleModel",
          "model_module_version": "1.5.0",
          "state": {
            "_model_module": "@jupyter-widgets/controls",
            "_model_module_version": "1.5.0",
            "_model_name": "DescriptionStyleModel",
            "_view_count": null,
            "_view_module": "@jupyter-widgets/base",
            "_view_module_version": "1.2.0",
            "_view_name": "StyleView",
            "description_width": ""
          }
        },
        "2c9810359fd646a18fcb059c2ff2a2ed": {
          "model_module": "@jupyter-widgets/controls",
          "model_name": "HBoxModel",
          "model_module_version": "1.5.0",
          "state": {
            "_dom_classes": [],
            "_model_module": "@jupyter-widgets/controls",
            "_model_module_version": "1.5.0",
            "_model_name": "HBoxModel",
            "_view_count": null,
            "_view_module": "@jupyter-widgets/controls",
            "_view_module_version": "1.5.0",
            "_view_name": "HBoxView",
            "box_style": "",
            "children": [
              "IPY_MODEL_0fcf127195934ccda8f618b8901cd493",
              "IPY_MODEL_70579cd1eac5443b84a343a93d512ea1",
              "IPY_MODEL_07af077bb4d4477eb23bbd002849961a"
            ],
            "layout": "IPY_MODEL_116dfc056f574114afc060609c2f57a2"
          }
        },
        "0fcf127195934ccda8f618b8901cd493": {
          "model_module": "@jupyter-widgets/controls",
          "model_name": "HTMLModel",
          "model_module_version": "1.5.0",
          "state": {
            "_dom_classes": [],
            "_model_module": "@jupyter-widgets/controls",
            "_model_module_version": "1.5.0",
            "_model_name": "HTMLModel",
            "_view_count": null,
            "_view_module": "@jupyter-widgets/controls",
            "_view_module_version": "1.5.0",
            "_view_name": "HTMLView",
            "description": "",
            "description_tooltip": null,
            "layout": "IPY_MODEL_026c52551c554ec69c34c2e974639148",
            "placeholder": "​",
            "style": "IPY_MODEL_5e309b1f614548e5ba0c217a956fee13",
            "value": "Downloading (…)olve/main/vocab.json: 100%"
          }
        },
        "70579cd1eac5443b84a343a93d512ea1": {
          "model_module": "@jupyter-widgets/controls",
          "model_name": "FloatProgressModel",
          "model_module_version": "1.5.0",
          "state": {
            "_dom_classes": [],
            "_model_module": "@jupyter-widgets/controls",
            "_model_module_version": "1.5.0",
            "_model_name": "FloatProgressModel",
            "_view_count": null,
            "_view_module": "@jupyter-widgets/controls",
            "_view_module_version": "1.5.0",
            "_view_name": "ProgressView",
            "bar_style": "success",
            "description": "",
            "description_tooltip": null,
            "layout": "IPY_MODEL_55f321fa42d14f9987dd549f87d7b201",
            "max": 898823,
            "min": 0,
            "orientation": "horizontal",
            "style": "IPY_MODEL_438a0230f96f401daa0d3363ea8f6cc4",
            "value": 898823
          }
        },
        "07af077bb4d4477eb23bbd002849961a": {
          "model_module": "@jupyter-widgets/controls",
          "model_name": "HTMLModel",
          "model_module_version": "1.5.0",
          "state": {
            "_dom_classes": [],
            "_model_module": "@jupyter-widgets/controls",
            "_model_module_version": "1.5.0",
            "_model_name": "HTMLModel",
            "_view_count": null,
            "_view_module": "@jupyter-widgets/controls",
            "_view_module_version": "1.5.0",
            "_view_name": "HTMLView",
            "description": "",
            "description_tooltip": null,
            "layout": "IPY_MODEL_651f7a47c0714053a45922897b356ada",
            "placeholder": "​",
            "style": "IPY_MODEL_ac15e2d14faf4b648f9c898d43ac6af6",
            "value": " 899k/899k [00:00&lt;00:00, 2.88MB/s]"
          }
        },
        "116dfc056f574114afc060609c2f57a2": {
          "model_module": "@jupyter-widgets/base",
          "model_name": "LayoutModel",
          "model_module_version": "1.2.0",
          "state": {
            "_model_module": "@jupyter-widgets/base",
            "_model_module_version": "1.2.0",
            "_model_name": "LayoutModel",
            "_view_count": null,
            "_view_module": "@jupyter-widgets/base",
            "_view_module_version": "1.2.0",
            "_view_name": "LayoutView",
            "align_content": null,
            "align_items": null,
            "align_self": null,
            "border": null,
            "bottom": null,
            "display": null,
            "flex": null,
            "flex_flow": null,
            "grid_area": null,
            "grid_auto_columns": null,
            "grid_auto_flow": null,
            "grid_auto_rows": null,
            "grid_column": null,
            "grid_gap": null,
            "grid_row": null,
            "grid_template_areas": null,
            "grid_template_columns": null,
            "grid_template_rows": null,
            "height": null,
            "justify_content": null,
            "justify_items": null,
            "left": null,
            "margin": null,
            "max_height": null,
            "max_width": null,
            "min_height": null,
            "min_width": null,
            "object_fit": null,
            "object_position": null,
            "order": null,
            "overflow": null,
            "overflow_x": null,
            "overflow_y": null,
            "padding": null,
            "right": null,
            "top": null,
            "visibility": null,
            "width": null
          }
        },
        "026c52551c554ec69c34c2e974639148": {
          "model_module": "@jupyter-widgets/base",
          "model_name": "LayoutModel",
          "model_module_version": "1.2.0",
          "state": {
            "_model_module": "@jupyter-widgets/base",
            "_model_module_version": "1.2.0",
            "_model_name": "LayoutModel",
            "_view_count": null,
            "_view_module": "@jupyter-widgets/base",
            "_view_module_version": "1.2.0",
            "_view_name": "LayoutView",
            "align_content": null,
            "align_items": null,
            "align_self": null,
            "border": null,
            "bottom": null,
            "display": null,
            "flex": null,
            "flex_flow": null,
            "grid_area": null,
            "grid_auto_columns": null,
            "grid_auto_flow": null,
            "grid_auto_rows": null,
            "grid_column": null,
            "grid_gap": null,
            "grid_row": null,
            "grid_template_areas": null,
            "grid_template_columns": null,
            "grid_template_rows": null,
            "height": null,
            "justify_content": null,
            "justify_items": null,
            "left": null,
            "margin": null,
            "max_height": null,
            "max_width": null,
            "min_height": null,
            "min_width": null,
            "object_fit": null,
            "object_position": null,
            "order": null,
            "overflow": null,
            "overflow_x": null,
            "overflow_y": null,
            "padding": null,
            "right": null,
            "top": null,
            "visibility": null,
            "width": null
          }
        },
        "5e309b1f614548e5ba0c217a956fee13": {
          "model_module": "@jupyter-widgets/controls",
          "model_name": "DescriptionStyleModel",
          "model_module_version": "1.5.0",
          "state": {
            "_model_module": "@jupyter-widgets/controls",
            "_model_module_version": "1.5.0",
            "_model_name": "DescriptionStyleModel",
            "_view_count": null,
            "_view_module": "@jupyter-widgets/base",
            "_view_module_version": "1.2.0",
            "_view_name": "StyleView",
            "description_width": ""
          }
        },
        "55f321fa42d14f9987dd549f87d7b201": {
          "model_module": "@jupyter-widgets/base",
          "model_name": "LayoutModel",
          "model_module_version": "1.2.0",
          "state": {
            "_model_module": "@jupyter-widgets/base",
            "_model_module_version": "1.2.0",
            "_model_name": "LayoutModel",
            "_view_count": null,
            "_view_module": "@jupyter-widgets/base",
            "_view_module_version": "1.2.0",
            "_view_name": "LayoutView",
            "align_content": null,
            "align_items": null,
            "align_self": null,
            "border": null,
            "bottom": null,
            "display": null,
            "flex": null,
            "flex_flow": null,
            "grid_area": null,
            "grid_auto_columns": null,
            "grid_auto_flow": null,
            "grid_auto_rows": null,
            "grid_column": null,
            "grid_gap": null,
            "grid_row": null,
            "grid_template_areas": null,
            "grid_template_columns": null,
            "grid_template_rows": null,
            "height": null,
            "justify_content": null,
            "justify_items": null,
            "left": null,
            "margin": null,
            "max_height": null,
            "max_width": null,
            "min_height": null,
            "min_width": null,
            "object_fit": null,
            "object_position": null,
            "order": null,
            "overflow": null,
            "overflow_x": null,
            "overflow_y": null,
            "padding": null,
            "right": null,
            "top": null,
            "visibility": null,
            "width": null
          }
        },
        "438a0230f96f401daa0d3363ea8f6cc4": {
          "model_module": "@jupyter-widgets/controls",
          "model_name": "ProgressStyleModel",
          "model_module_version": "1.5.0",
          "state": {
            "_model_module": "@jupyter-widgets/controls",
            "_model_module_version": "1.5.0",
            "_model_name": "ProgressStyleModel",
            "_view_count": null,
            "_view_module": "@jupyter-widgets/base",
            "_view_module_version": "1.2.0",
            "_view_name": "StyleView",
            "bar_color": null,
            "description_width": ""
          }
        },
        "651f7a47c0714053a45922897b356ada": {
          "model_module": "@jupyter-widgets/base",
          "model_name": "LayoutModel",
          "model_module_version": "1.2.0",
          "state": {
            "_model_module": "@jupyter-widgets/base",
            "_model_module_version": "1.2.0",
            "_model_name": "LayoutModel",
            "_view_count": null,
            "_view_module": "@jupyter-widgets/base",
            "_view_module_version": "1.2.0",
            "_view_name": "LayoutView",
            "align_content": null,
            "align_items": null,
            "align_self": null,
            "border": null,
            "bottom": null,
            "display": null,
            "flex": null,
            "flex_flow": null,
            "grid_area": null,
            "grid_auto_columns": null,
            "grid_auto_flow": null,
            "grid_auto_rows": null,
            "grid_column": null,
            "grid_gap": null,
            "grid_row": null,
            "grid_template_areas": null,
            "grid_template_columns": null,
            "grid_template_rows": null,
            "height": null,
            "justify_content": null,
            "justify_items": null,
            "left": null,
            "margin": null,
            "max_height": null,
            "max_width": null,
            "min_height": null,
            "min_width": null,
            "object_fit": null,
            "object_position": null,
            "order": null,
            "overflow": null,
            "overflow_x": null,
            "overflow_y": null,
            "padding": null,
            "right": null,
            "top": null,
            "visibility": null,
            "width": null
          }
        },
        "ac15e2d14faf4b648f9c898d43ac6af6": {
          "model_module": "@jupyter-widgets/controls",
          "model_name": "DescriptionStyleModel",
          "model_module_version": "1.5.0",
          "state": {
            "_model_module": "@jupyter-widgets/controls",
            "_model_module_version": "1.5.0",
            "_model_name": "DescriptionStyleModel",
            "_view_count": null,
            "_view_module": "@jupyter-widgets/base",
            "_view_module_version": "1.2.0",
            "_view_name": "StyleView",
            "description_width": ""
          }
        },
        "950d47260d5d412991aac39d294c1ebd": {
          "model_module": "@jupyter-widgets/controls",
          "model_name": "HBoxModel",
          "model_module_version": "1.5.0",
          "state": {
            "_dom_classes": [],
            "_model_module": "@jupyter-widgets/controls",
            "_model_module_version": "1.5.0",
            "_model_name": "HBoxModel",
            "_view_count": null,
            "_view_module": "@jupyter-widgets/controls",
            "_view_module_version": "1.5.0",
            "_view_name": "HBoxView",
            "box_style": "",
            "children": [
              "IPY_MODEL_fa35938b50e04347a05acca8527f4104",
              "IPY_MODEL_15dec8ca3e94427894dc9783e6fdb810",
              "IPY_MODEL_2053b3f6039240df951d476c440ad489"
            ],
            "layout": "IPY_MODEL_34acf64ee429483695482b2d82d6d025"
          }
        },
        "fa35938b50e04347a05acca8527f4104": {
          "model_module": "@jupyter-widgets/controls",
          "model_name": "HTMLModel",
          "model_module_version": "1.5.0",
          "state": {
            "_dom_classes": [],
            "_model_module": "@jupyter-widgets/controls",
            "_model_module_version": "1.5.0",
            "_model_name": "HTMLModel",
            "_view_count": null,
            "_view_module": "@jupyter-widgets/controls",
            "_view_module_version": "1.5.0",
            "_view_name": "HTMLView",
            "description": "",
            "description_tooltip": null,
            "layout": "IPY_MODEL_0541feb16d584dfeb6ce0b5c62349e4b",
            "placeholder": "​",
            "style": "IPY_MODEL_7b36dc0bb45e4feb863e7d173490b672",
            "value": "Downloading (…)olve/main/merges.txt: 100%"
          }
        },
        "15dec8ca3e94427894dc9783e6fdb810": {
          "model_module": "@jupyter-widgets/controls",
          "model_name": "FloatProgressModel",
          "model_module_version": "1.5.0",
          "state": {
            "_dom_classes": [],
            "_model_module": "@jupyter-widgets/controls",
            "_model_module_version": "1.5.0",
            "_model_name": "FloatProgressModel",
            "_view_count": null,
            "_view_module": "@jupyter-widgets/controls",
            "_view_module_version": "1.5.0",
            "_view_name": "ProgressView",
            "bar_style": "success",
            "description": "",
            "description_tooltip": null,
            "layout": "IPY_MODEL_15bb3327e10440a699187c8378911466",
            "max": 456318,
            "min": 0,
            "orientation": "horizontal",
            "style": "IPY_MODEL_3e3a16b81f914ded8cd8a6b42c9212bc",
            "value": 456318
          }
        },
        "2053b3f6039240df951d476c440ad489": {
          "model_module": "@jupyter-widgets/controls",
          "model_name": "HTMLModel",
          "model_module_version": "1.5.0",
          "state": {
            "_dom_classes": [],
            "_model_module": "@jupyter-widgets/controls",
            "_model_module_version": "1.5.0",
            "_model_name": "HTMLModel",
            "_view_count": null,
            "_view_module": "@jupyter-widgets/controls",
            "_view_module_version": "1.5.0",
            "_view_name": "HTMLView",
            "description": "",
            "description_tooltip": null,
            "layout": "IPY_MODEL_a65633f493b8473f9fe58b557c23dc9b",
            "placeholder": "​",
            "style": "IPY_MODEL_2a04e045e9eb4d37b1f07fc063fb036e",
            "value": " 456k/456k [00:00&lt;00:00, 1.85MB/s]"
          }
        },
        "34acf64ee429483695482b2d82d6d025": {
          "model_module": "@jupyter-widgets/base",
          "model_name": "LayoutModel",
          "model_module_version": "1.2.0",
          "state": {
            "_model_module": "@jupyter-widgets/base",
            "_model_module_version": "1.2.0",
            "_model_name": "LayoutModel",
            "_view_count": null,
            "_view_module": "@jupyter-widgets/base",
            "_view_module_version": "1.2.0",
            "_view_name": "LayoutView",
            "align_content": null,
            "align_items": null,
            "align_self": null,
            "border": null,
            "bottom": null,
            "display": null,
            "flex": null,
            "flex_flow": null,
            "grid_area": null,
            "grid_auto_columns": null,
            "grid_auto_flow": null,
            "grid_auto_rows": null,
            "grid_column": null,
            "grid_gap": null,
            "grid_row": null,
            "grid_template_areas": null,
            "grid_template_columns": null,
            "grid_template_rows": null,
            "height": null,
            "justify_content": null,
            "justify_items": null,
            "left": null,
            "margin": null,
            "max_height": null,
            "max_width": null,
            "min_height": null,
            "min_width": null,
            "object_fit": null,
            "object_position": null,
            "order": null,
            "overflow": null,
            "overflow_x": null,
            "overflow_y": null,
            "padding": null,
            "right": null,
            "top": null,
            "visibility": null,
            "width": null
          }
        },
        "0541feb16d584dfeb6ce0b5c62349e4b": {
          "model_module": "@jupyter-widgets/base",
          "model_name": "LayoutModel",
          "model_module_version": "1.2.0",
          "state": {
            "_model_module": "@jupyter-widgets/base",
            "_model_module_version": "1.2.0",
            "_model_name": "LayoutModel",
            "_view_count": null,
            "_view_module": "@jupyter-widgets/base",
            "_view_module_version": "1.2.0",
            "_view_name": "LayoutView",
            "align_content": null,
            "align_items": null,
            "align_self": null,
            "border": null,
            "bottom": null,
            "display": null,
            "flex": null,
            "flex_flow": null,
            "grid_area": null,
            "grid_auto_columns": null,
            "grid_auto_flow": null,
            "grid_auto_rows": null,
            "grid_column": null,
            "grid_gap": null,
            "grid_row": null,
            "grid_template_areas": null,
            "grid_template_columns": null,
            "grid_template_rows": null,
            "height": null,
            "justify_content": null,
            "justify_items": null,
            "left": null,
            "margin": null,
            "max_height": null,
            "max_width": null,
            "min_height": null,
            "min_width": null,
            "object_fit": null,
            "object_position": null,
            "order": null,
            "overflow": null,
            "overflow_x": null,
            "overflow_y": null,
            "padding": null,
            "right": null,
            "top": null,
            "visibility": null,
            "width": null
          }
        },
        "7b36dc0bb45e4feb863e7d173490b672": {
          "model_module": "@jupyter-widgets/controls",
          "model_name": "DescriptionStyleModel",
          "model_module_version": "1.5.0",
          "state": {
            "_model_module": "@jupyter-widgets/controls",
            "_model_module_version": "1.5.0",
            "_model_name": "DescriptionStyleModel",
            "_view_count": null,
            "_view_module": "@jupyter-widgets/base",
            "_view_module_version": "1.2.0",
            "_view_name": "StyleView",
            "description_width": ""
          }
        },
        "15bb3327e10440a699187c8378911466": {
          "model_module": "@jupyter-widgets/base",
          "model_name": "LayoutModel",
          "model_module_version": "1.2.0",
          "state": {
            "_model_module": "@jupyter-widgets/base",
            "_model_module_version": "1.2.0",
            "_model_name": "LayoutModel",
            "_view_count": null,
            "_view_module": "@jupyter-widgets/base",
            "_view_module_version": "1.2.0",
            "_view_name": "LayoutView",
            "align_content": null,
            "align_items": null,
            "align_self": null,
            "border": null,
            "bottom": null,
            "display": null,
            "flex": null,
            "flex_flow": null,
            "grid_area": null,
            "grid_auto_columns": null,
            "grid_auto_flow": null,
            "grid_auto_rows": null,
            "grid_column": null,
            "grid_gap": null,
            "grid_row": null,
            "grid_template_areas": null,
            "grid_template_columns": null,
            "grid_template_rows": null,
            "height": null,
            "justify_content": null,
            "justify_items": null,
            "left": null,
            "margin": null,
            "max_height": null,
            "max_width": null,
            "min_height": null,
            "min_width": null,
            "object_fit": null,
            "object_position": null,
            "order": null,
            "overflow": null,
            "overflow_x": null,
            "overflow_y": null,
            "padding": null,
            "right": null,
            "top": null,
            "visibility": null,
            "width": null
          }
        },
        "3e3a16b81f914ded8cd8a6b42c9212bc": {
          "model_module": "@jupyter-widgets/controls",
          "model_name": "ProgressStyleModel",
          "model_module_version": "1.5.0",
          "state": {
            "_model_module": "@jupyter-widgets/controls",
            "_model_module_version": "1.5.0",
            "_model_name": "ProgressStyleModel",
            "_view_count": null,
            "_view_module": "@jupyter-widgets/base",
            "_view_module_version": "1.2.0",
            "_view_name": "StyleView",
            "bar_color": null,
            "description_width": ""
          }
        },
        "a65633f493b8473f9fe58b557c23dc9b": {
          "model_module": "@jupyter-widgets/base",
          "model_name": "LayoutModel",
          "model_module_version": "1.2.0",
          "state": {
            "_model_module": "@jupyter-widgets/base",
            "_model_module_version": "1.2.0",
            "_model_name": "LayoutModel",
            "_view_count": null,
            "_view_module": "@jupyter-widgets/base",
            "_view_module_version": "1.2.0",
            "_view_name": "LayoutView",
            "align_content": null,
            "align_items": null,
            "align_self": null,
            "border": null,
            "bottom": null,
            "display": null,
            "flex": null,
            "flex_flow": null,
            "grid_area": null,
            "grid_auto_columns": null,
            "grid_auto_flow": null,
            "grid_auto_rows": null,
            "grid_column": null,
            "grid_gap": null,
            "grid_row": null,
            "grid_template_areas": null,
            "grid_template_columns": null,
            "grid_template_rows": null,
            "height": null,
            "justify_content": null,
            "justify_items": null,
            "left": null,
            "margin": null,
            "max_height": null,
            "max_width": null,
            "min_height": null,
            "min_width": null,
            "object_fit": null,
            "object_position": null,
            "order": null,
            "overflow": null,
            "overflow_x": null,
            "overflow_y": null,
            "padding": null,
            "right": null,
            "top": null,
            "visibility": null,
            "width": null
          }
        },
        "2a04e045e9eb4d37b1f07fc063fb036e": {
          "model_module": "@jupyter-widgets/controls",
          "model_name": "DescriptionStyleModel",
          "model_module_version": "1.5.0",
          "state": {
            "_model_module": "@jupyter-widgets/controls",
            "_model_module_version": "1.5.0",
            "_model_name": "DescriptionStyleModel",
            "_view_count": null,
            "_view_module": "@jupyter-widgets/base",
            "_view_module_version": "1.2.0",
            "_view_name": "StyleView",
            "description_width": ""
          }
        },
        "f8750e5c47f44936b7f345865ed83a5a": {
          "model_module": "@jupyter-widgets/controls",
          "model_name": "HBoxModel",
          "model_module_version": "1.5.0",
          "state": {
            "_dom_classes": [],
            "_model_module": "@jupyter-widgets/controls",
            "_model_module_version": "1.5.0",
            "_model_name": "HBoxModel",
            "_view_count": null,
            "_view_module": "@jupyter-widgets/controls",
            "_view_module_version": "1.5.0",
            "_view_name": "HBoxView",
            "box_style": "",
            "children": [
              "IPY_MODEL_3401399b1e4b40afa186cad23133643d",
              "IPY_MODEL_640429963fc741aaa680cb708c6a4ab8",
              "IPY_MODEL_56f8ac7ad3fb42bd85411b13dd989ceb"
            ],
            "layout": "IPY_MODEL_cad44dea3b7d45a4888e7ab25232e2c9"
          }
        },
        "3401399b1e4b40afa186cad23133643d": {
          "model_module": "@jupyter-widgets/controls",
          "model_name": "HTMLModel",
          "model_module_version": "1.5.0",
          "state": {
            "_dom_classes": [],
            "_model_module": "@jupyter-widgets/controls",
            "_model_module_version": "1.5.0",
            "_model_name": "HTMLModel",
            "_view_count": null,
            "_view_module": "@jupyter-widgets/controls",
            "_view_module_version": "1.5.0",
            "_view_name": "HTMLView",
            "description": "",
            "description_tooltip": null,
            "layout": "IPY_MODEL_908dff6bcf354130a114c8739e82e502",
            "placeholder": "​",
            "style": "IPY_MODEL_bdae8b05e56742499718ec9b5848230e",
            "value": "Downloading (…)/main/tokenizer.json: 100%"
          }
        },
        "640429963fc741aaa680cb708c6a4ab8": {
          "model_module": "@jupyter-widgets/controls",
          "model_name": "FloatProgressModel",
          "model_module_version": "1.5.0",
          "state": {
            "_dom_classes": [],
            "_model_module": "@jupyter-widgets/controls",
            "_model_module_version": "1.5.0",
            "_model_name": "FloatProgressModel",
            "_view_count": null,
            "_view_module": "@jupyter-widgets/controls",
            "_view_module_version": "1.5.0",
            "_view_name": "ProgressView",
            "bar_style": "success",
            "description": "",
            "description_tooltip": null,
            "layout": "IPY_MODEL_edf11e309ec747488747186bac0d70b5",
            "max": 1355863,
            "min": 0,
            "orientation": "horizontal",
            "style": "IPY_MODEL_b700582ac78a48c78f5fdb3b45f48c21",
            "value": 1355863
          }
        },
        "56f8ac7ad3fb42bd85411b13dd989ceb": {
          "model_module": "@jupyter-widgets/controls",
          "model_name": "HTMLModel",
          "model_module_version": "1.5.0",
          "state": {
            "_dom_classes": [],
            "_model_module": "@jupyter-widgets/controls",
            "_model_module_version": "1.5.0",
            "_model_name": "HTMLModel",
            "_view_count": null,
            "_view_module": "@jupyter-widgets/controls",
            "_view_module_version": "1.5.0",
            "_view_name": "HTMLView",
            "description": "",
            "description_tooltip": null,
            "layout": "IPY_MODEL_225eb9b6e4a2473cbe554c3ef130bf11",
            "placeholder": "​",
            "style": "IPY_MODEL_790e80f4e4f54f15b75911cc97db6482",
            "value": " 1.36M/1.36M [00:00&lt;00:00, 3.64MB/s]"
          }
        },
        "cad44dea3b7d45a4888e7ab25232e2c9": {
          "model_module": "@jupyter-widgets/base",
          "model_name": "LayoutModel",
          "model_module_version": "1.2.0",
          "state": {
            "_model_module": "@jupyter-widgets/base",
            "_model_module_version": "1.2.0",
            "_model_name": "LayoutModel",
            "_view_count": null,
            "_view_module": "@jupyter-widgets/base",
            "_view_module_version": "1.2.0",
            "_view_name": "LayoutView",
            "align_content": null,
            "align_items": null,
            "align_self": null,
            "border": null,
            "bottom": null,
            "display": null,
            "flex": null,
            "flex_flow": null,
            "grid_area": null,
            "grid_auto_columns": null,
            "grid_auto_flow": null,
            "grid_auto_rows": null,
            "grid_column": null,
            "grid_gap": null,
            "grid_row": null,
            "grid_template_areas": null,
            "grid_template_columns": null,
            "grid_template_rows": null,
            "height": null,
            "justify_content": null,
            "justify_items": null,
            "left": null,
            "margin": null,
            "max_height": null,
            "max_width": null,
            "min_height": null,
            "min_width": null,
            "object_fit": null,
            "object_position": null,
            "order": null,
            "overflow": null,
            "overflow_x": null,
            "overflow_y": null,
            "padding": null,
            "right": null,
            "top": null,
            "visibility": null,
            "width": null
          }
        },
        "908dff6bcf354130a114c8739e82e502": {
          "model_module": "@jupyter-widgets/base",
          "model_name": "LayoutModel",
          "model_module_version": "1.2.0",
          "state": {
            "_model_module": "@jupyter-widgets/base",
            "_model_module_version": "1.2.0",
            "_model_name": "LayoutModel",
            "_view_count": null,
            "_view_module": "@jupyter-widgets/base",
            "_view_module_version": "1.2.0",
            "_view_name": "LayoutView",
            "align_content": null,
            "align_items": null,
            "align_self": null,
            "border": null,
            "bottom": null,
            "display": null,
            "flex": null,
            "flex_flow": null,
            "grid_area": null,
            "grid_auto_columns": null,
            "grid_auto_flow": null,
            "grid_auto_rows": null,
            "grid_column": null,
            "grid_gap": null,
            "grid_row": null,
            "grid_template_areas": null,
            "grid_template_columns": null,
            "grid_template_rows": null,
            "height": null,
            "justify_content": null,
            "justify_items": null,
            "left": null,
            "margin": null,
            "max_height": null,
            "max_width": null,
            "min_height": null,
            "min_width": null,
            "object_fit": null,
            "object_position": null,
            "order": null,
            "overflow": null,
            "overflow_x": null,
            "overflow_y": null,
            "padding": null,
            "right": null,
            "top": null,
            "visibility": null,
            "width": null
          }
        },
        "bdae8b05e56742499718ec9b5848230e": {
          "model_module": "@jupyter-widgets/controls",
          "model_name": "DescriptionStyleModel",
          "model_module_version": "1.5.0",
          "state": {
            "_model_module": "@jupyter-widgets/controls",
            "_model_module_version": "1.5.0",
            "_model_name": "DescriptionStyleModel",
            "_view_count": null,
            "_view_module": "@jupyter-widgets/base",
            "_view_module_version": "1.2.0",
            "_view_name": "StyleView",
            "description_width": ""
          }
        },
        "edf11e309ec747488747186bac0d70b5": {
          "model_module": "@jupyter-widgets/base",
          "model_name": "LayoutModel",
          "model_module_version": "1.2.0",
          "state": {
            "_model_module": "@jupyter-widgets/base",
            "_model_module_version": "1.2.0",
            "_model_name": "LayoutModel",
            "_view_count": null,
            "_view_module": "@jupyter-widgets/base",
            "_view_module_version": "1.2.0",
            "_view_name": "LayoutView",
            "align_content": null,
            "align_items": null,
            "align_self": null,
            "border": null,
            "bottom": null,
            "display": null,
            "flex": null,
            "flex_flow": null,
            "grid_area": null,
            "grid_auto_columns": null,
            "grid_auto_flow": null,
            "grid_auto_rows": null,
            "grid_column": null,
            "grid_gap": null,
            "grid_row": null,
            "grid_template_areas": null,
            "grid_template_columns": null,
            "grid_template_rows": null,
            "height": null,
            "justify_content": null,
            "justify_items": null,
            "left": null,
            "margin": null,
            "max_height": null,
            "max_width": null,
            "min_height": null,
            "min_width": null,
            "object_fit": null,
            "object_position": null,
            "order": null,
            "overflow": null,
            "overflow_x": null,
            "overflow_y": null,
            "padding": null,
            "right": null,
            "top": null,
            "visibility": null,
            "width": null
          }
        },
        "b700582ac78a48c78f5fdb3b45f48c21": {
          "model_module": "@jupyter-widgets/controls",
          "model_name": "ProgressStyleModel",
          "model_module_version": "1.5.0",
          "state": {
            "_model_module": "@jupyter-widgets/controls",
            "_model_module_version": "1.5.0",
            "_model_name": "ProgressStyleModel",
            "_view_count": null,
            "_view_module": "@jupyter-widgets/base",
            "_view_module_version": "1.2.0",
            "_view_name": "StyleView",
            "bar_color": null,
            "description_width": ""
          }
        },
        "225eb9b6e4a2473cbe554c3ef130bf11": {
          "model_module": "@jupyter-widgets/base",
          "model_name": "LayoutModel",
          "model_module_version": "1.2.0",
          "state": {
            "_model_module": "@jupyter-widgets/base",
            "_model_module_version": "1.2.0",
            "_model_name": "LayoutModel",
            "_view_count": null,
            "_view_module": "@jupyter-widgets/base",
            "_view_module_version": "1.2.0",
            "_view_name": "LayoutView",
            "align_content": null,
            "align_items": null,
            "align_self": null,
            "border": null,
            "bottom": null,
            "display": null,
            "flex": null,
            "flex_flow": null,
            "grid_area": null,
            "grid_auto_columns": null,
            "grid_auto_flow": null,
            "grid_auto_rows": null,
            "grid_column": null,
            "grid_gap": null,
            "grid_row": null,
            "grid_template_areas": null,
            "grid_template_columns": null,
            "grid_template_rows": null,
            "height": null,
            "justify_content": null,
            "justify_items": null,
            "left": null,
            "margin": null,
            "max_height": null,
            "max_width": null,
            "min_height": null,
            "min_width": null,
            "object_fit": null,
            "object_position": null,
            "order": null,
            "overflow": null,
            "overflow_x": null,
            "overflow_y": null,
            "padding": null,
            "right": null,
            "top": null,
            "visibility": null,
            "width": null
          }
        },
        "790e80f4e4f54f15b75911cc97db6482": {
          "model_module": "@jupyter-widgets/controls",
          "model_name": "DescriptionStyleModel",
          "model_module_version": "1.5.0",
          "state": {
            "_model_module": "@jupyter-widgets/controls",
            "_model_module_version": "1.5.0",
            "_model_name": "DescriptionStyleModel",
            "_view_count": null,
            "_view_module": "@jupyter-widgets/base",
            "_view_module_version": "1.2.0",
            "_view_name": "StyleView",
            "description_width": ""
          }
        },
        "f4069dc2d9a04c88970aa1a6831b487e": {
          "model_module": "@jupyter-widgets/controls",
          "model_name": "HBoxModel",
          "model_module_version": "1.5.0",
          "state": {
            "_dom_classes": [],
            "_model_module": "@jupyter-widgets/controls",
            "_model_module_version": "1.5.0",
            "_model_name": "HBoxModel",
            "_view_count": null,
            "_view_module": "@jupyter-widgets/controls",
            "_view_module_version": "1.5.0",
            "_view_name": "HBoxView",
            "box_style": "",
            "children": [
              "IPY_MODEL_37adf90194074d79844000a0c991e328",
              "IPY_MODEL_91b04645d3ae4fdeb104784a70c00875",
              "IPY_MODEL_1a9a9ad8fa08456da159e36b505f61d0"
            ],
            "layout": "IPY_MODEL_22d6112ed7d34e1ea3060bd4df43928f"
          }
        },
        "37adf90194074d79844000a0c991e328": {
          "model_module": "@jupyter-widgets/controls",
          "model_name": "HTMLModel",
          "model_module_version": "1.5.0",
          "state": {
            "_dom_classes": [],
            "_model_module": "@jupyter-widgets/controls",
            "_model_module_version": "1.5.0",
            "_model_name": "HTMLModel",
            "_view_count": null,
            "_view_module": "@jupyter-widgets/controls",
            "_view_module_version": "1.5.0",
            "_view_name": "HTMLView",
            "description": "",
            "description_tooltip": null,
            "layout": "IPY_MODEL_ee5d6036dee64b76ad27758350676d0e",
            "placeholder": "​",
            "style": "IPY_MODEL_2c2a76ad51bf491181ee63a8efefecc6",
            "value": "Downloading (…)lve/main/config.json: 100%"
          }
        },
        "91b04645d3ae4fdeb104784a70c00875": {
          "model_module": "@jupyter-widgets/controls",
          "model_name": "FloatProgressModel",
          "model_module_version": "1.5.0",
          "state": {
            "_dom_classes": [],
            "_model_module": "@jupyter-widgets/controls",
            "_model_module_version": "1.5.0",
            "_model_name": "FloatProgressModel",
            "_view_count": null,
            "_view_module": "@jupyter-widgets/controls",
            "_view_module_version": "1.5.0",
            "_view_name": "ProgressView",
            "bar_style": "success",
            "description": "",
            "description_tooltip": null,
            "layout": "IPY_MODEL_aeec54b1125a4f57b11427ea84fd2007",
            "max": 481,
            "min": 0,
            "orientation": "horizontal",
            "style": "IPY_MODEL_a631242492d840c0b0c4c0f4ea6e4e0b",
            "value": 481
          }
        },
        "1a9a9ad8fa08456da159e36b505f61d0": {
          "model_module": "@jupyter-widgets/controls",
          "model_name": "HTMLModel",
          "model_module_version": "1.5.0",
          "state": {
            "_dom_classes": [],
            "_model_module": "@jupyter-widgets/controls",
            "_model_module_version": "1.5.0",
            "_model_name": "HTMLModel",
            "_view_count": null,
            "_view_module": "@jupyter-widgets/controls",
            "_view_module_version": "1.5.0",
            "_view_name": "HTMLView",
            "description": "",
            "description_tooltip": null,
            "layout": "IPY_MODEL_d437a520147f417c9ac5dd9de9913e28",
            "placeholder": "​",
            "style": "IPY_MODEL_df83caef23d44d0e85ddc9aca54a17a8",
            "value": " 481/481 [00:00&lt;00:00, 16.0kB/s]"
          }
        },
        "22d6112ed7d34e1ea3060bd4df43928f": {
          "model_module": "@jupyter-widgets/base",
          "model_name": "LayoutModel",
          "model_module_version": "1.2.0",
          "state": {
            "_model_module": "@jupyter-widgets/base",
            "_model_module_version": "1.2.0",
            "_model_name": "LayoutModel",
            "_view_count": null,
            "_view_module": "@jupyter-widgets/base",
            "_view_module_version": "1.2.0",
            "_view_name": "LayoutView",
            "align_content": null,
            "align_items": null,
            "align_self": null,
            "border": null,
            "bottom": null,
            "display": null,
            "flex": null,
            "flex_flow": null,
            "grid_area": null,
            "grid_auto_columns": null,
            "grid_auto_flow": null,
            "grid_auto_rows": null,
            "grid_column": null,
            "grid_gap": null,
            "grid_row": null,
            "grid_template_areas": null,
            "grid_template_columns": null,
            "grid_template_rows": null,
            "height": null,
            "justify_content": null,
            "justify_items": null,
            "left": null,
            "margin": null,
            "max_height": null,
            "max_width": null,
            "min_height": null,
            "min_width": null,
            "object_fit": null,
            "object_position": null,
            "order": null,
            "overflow": null,
            "overflow_x": null,
            "overflow_y": null,
            "padding": null,
            "right": null,
            "top": null,
            "visibility": null,
            "width": null
          }
        },
        "ee5d6036dee64b76ad27758350676d0e": {
          "model_module": "@jupyter-widgets/base",
          "model_name": "LayoutModel",
          "model_module_version": "1.2.0",
          "state": {
            "_model_module": "@jupyter-widgets/base",
            "_model_module_version": "1.2.0",
            "_model_name": "LayoutModel",
            "_view_count": null,
            "_view_module": "@jupyter-widgets/base",
            "_view_module_version": "1.2.0",
            "_view_name": "LayoutView",
            "align_content": null,
            "align_items": null,
            "align_self": null,
            "border": null,
            "bottom": null,
            "display": null,
            "flex": null,
            "flex_flow": null,
            "grid_area": null,
            "grid_auto_columns": null,
            "grid_auto_flow": null,
            "grid_auto_rows": null,
            "grid_column": null,
            "grid_gap": null,
            "grid_row": null,
            "grid_template_areas": null,
            "grid_template_columns": null,
            "grid_template_rows": null,
            "height": null,
            "justify_content": null,
            "justify_items": null,
            "left": null,
            "margin": null,
            "max_height": null,
            "max_width": null,
            "min_height": null,
            "min_width": null,
            "object_fit": null,
            "object_position": null,
            "order": null,
            "overflow": null,
            "overflow_x": null,
            "overflow_y": null,
            "padding": null,
            "right": null,
            "top": null,
            "visibility": null,
            "width": null
          }
        },
        "2c2a76ad51bf491181ee63a8efefecc6": {
          "model_module": "@jupyter-widgets/controls",
          "model_name": "DescriptionStyleModel",
          "model_module_version": "1.5.0",
          "state": {
            "_model_module": "@jupyter-widgets/controls",
            "_model_module_version": "1.5.0",
            "_model_name": "DescriptionStyleModel",
            "_view_count": null,
            "_view_module": "@jupyter-widgets/base",
            "_view_module_version": "1.2.0",
            "_view_name": "StyleView",
            "description_width": ""
          }
        },
        "aeec54b1125a4f57b11427ea84fd2007": {
          "model_module": "@jupyter-widgets/base",
          "model_name": "LayoutModel",
          "model_module_version": "1.2.0",
          "state": {
            "_model_module": "@jupyter-widgets/base",
            "_model_module_version": "1.2.0",
            "_model_name": "LayoutModel",
            "_view_count": null,
            "_view_module": "@jupyter-widgets/base",
            "_view_module_version": "1.2.0",
            "_view_name": "LayoutView",
            "align_content": null,
            "align_items": null,
            "align_self": null,
            "border": null,
            "bottom": null,
            "display": null,
            "flex": null,
            "flex_flow": null,
            "grid_area": null,
            "grid_auto_columns": null,
            "grid_auto_flow": null,
            "grid_auto_rows": null,
            "grid_column": null,
            "grid_gap": null,
            "grid_row": null,
            "grid_template_areas": null,
            "grid_template_columns": null,
            "grid_template_rows": null,
            "height": null,
            "justify_content": null,
            "justify_items": null,
            "left": null,
            "margin": null,
            "max_height": null,
            "max_width": null,
            "min_height": null,
            "min_width": null,
            "object_fit": null,
            "object_position": null,
            "order": null,
            "overflow": null,
            "overflow_x": null,
            "overflow_y": null,
            "padding": null,
            "right": null,
            "top": null,
            "visibility": null,
            "width": null
          }
        },
        "a631242492d840c0b0c4c0f4ea6e4e0b": {
          "model_module": "@jupyter-widgets/controls",
          "model_name": "ProgressStyleModel",
          "model_module_version": "1.5.0",
          "state": {
            "_model_module": "@jupyter-widgets/controls",
            "_model_module_version": "1.5.0",
            "_model_name": "ProgressStyleModel",
            "_view_count": null,
            "_view_module": "@jupyter-widgets/base",
            "_view_module_version": "1.2.0",
            "_view_name": "StyleView",
            "bar_color": null,
            "description_width": ""
          }
        },
        "d437a520147f417c9ac5dd9de9913e28": {
          "model_module": "@jupyter-widgets/base",
          "model_name": "LayoutModel",
          "model_module_version": "1.2.0",
          "state": {
            "_model_module": "@jupyter-widgets/base",
            "_model_module_version": "1.2.0",
            "_model_name": "LayoutModel",
            "_view_count": null,
            "_view_module": "@jupyter-widgets/base",
            "_view_module_version": "1.2.0",
            "_view_name": "LayoutView",
            "align_content": null,
            "align_items": null,
            "align_self": null,
            "border": null,
            "bottom": null,
            "display": null,
            "flex": null,
            "flex_flow": null,
            "grid_area": null,
            "grid_auto_columns": null,
            "grid_auto_flow": null,
            "grid_auto_rows": null,
            "grid_column": null,
            "grid_gap": null,
            "grid_row": null,
            "grid_template_areas": null,
            "grid_template_columns": null,
            "grid_template_rows": null,
            "height": null,
            "justify_content": null,
            "justify_items": null,
            "left": null,
            "margin": null,
            "max_height": null,
            "max_width": null,
            "min_height": null,
            "min_width": null,
            "object_fit": null,
            "object_position": null,
            "order": null,
            "overflow": null,
            "overflow_x": null,
            "overflow_y": null,
            "padding": null,
            "right": null,
            "top": null,
            "visibility": null,
            "width": null
          }
        },
        "df83caef23d44d0e85ddc9aca54a17a8": {
          "model_module": "@jupyter-widgets/controls",
          "model_name": "DescriptionStyleModel",
          "model_module_version": "1.5.0",
          "state": {
            "_model_module": "@jupyter-widgets/controls",
            "_model_module_version": "1.5.0",
            "_model_name": "DescriptionStyleModel",
            "_view_count": null,
            "_view_module": "@jupyter-widgets/base",
            "_view_module_version": "1.2.0",
            "_view_name": "StyleView",
            "description_width": ""
          }
        }
      }
    }
  },
  "nbformat": 4,
  "nbformat_minor": 0
}